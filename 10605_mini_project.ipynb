{
  "nbformat": 4,
  "nbformat_minor": 0,
  "metadata": {
    "colab": {
      "name": "10605_mini_project",
      "provenance": [],
      "collapsed_sections": [
        "EJgMhC_Px7rh"
      ],
      "toc_visible": true,
      "include_colab_link": true
    },
    "kernelspec": {
      "name": "python3",
      "display_name": "Python 3"
    },
    "accelerator": "GPU",
    "widgets": {
      "application/vnd.jupyter.widget-state+json": {
        "8e50a2c94dca47cba888eea06cc601dc": {
          "model_module": "@jupyter-widgets/controls",
          "model_name": "HBoxModel",
          "state": {
            "_view_name": "HBoxView",
            "_dom_classes": [],
            "_model_name": "HBoxModel",
            "_view_module": "@jupyter-widgets/controls",
            "_model_module_version": "1.5.0",
            "_view_count": null,
            "_view_module_version": "1.5.0",
            "box_style": "",
            "layout": "IPY_MODEL_b0c253470d2b479dbd9098cea0d919b8",
            "_model_module": "@jupyter-widgets/controls",
            "children": [
              "IPY_MODEL_982997da532a4bb89f966137cbf470e6",
              "IPY_MODEL_2c99473fa2164e09a96029b45fb18462"
            ]
          }
        },
        "b0c253470d2b479dbd9098cea0d919b8": {
          "model_module": "@jupyter-widgets/base",
          "model_name": "LayoutModel",
          "state": {
            "_view_name": "LayoutView",
            "grid_template_rows": null,
            "right": null,
            "justify_content": null,
            "_view_module": "@jupyter-widgets/base",
            "overflow": null,
            "_model_module_version": "1.2.0",
            "_view_count": null,
            "flex_flow": null,
            "width": null,
            "min_width": null,
            "border": null,
            "align_items": null,
            "bottom": null,
            "_model_module": "@jupyter-widgets/base",
            "top": null,
            "grid_column": null,
            "overflow_y": null,
            "overflow_x": null,
            "grid_auto_flow": null,
            "grid_area": null,
            "grid_template_columns": null,
            "flex": null,
            "_model_name": "LayoutModel",
            "justify_items": null,
            "grid_row": null,
            "max_height": null,
            "align_content": null,
            "visibility": null,
            "align_self": null,
            "height": null,
            "min_height": null,
            "padding": null,
            "grid_auto_rows": null,
            "grid_gap": null,
            "max_width": null,
            "order": null,
            "_view_module_version": "1.2.0",
            "grid_template_areas": null,
            "object_position": null,
            "object_fit": null,
            "grid_auto_columns": null,
            "margin": null,
            "display": null,
            "left": null
          }
        },
        "982997da532a4bb89f966137cbf470e6": {
          "model_module": "@jupyter-widgets/controls",
          "model_name": "FloatProgressModel",
          "state": {
            "_view_name": "ProgressView",
            "style": "IPY_MODEL_2e6dae9d2c2e4355a1fe9a950ce6d689",
            "_dom_classes": [],
            "description": "",
            "_model_name": "FloatProgressModel",
            "bar_style": "info",
            "max": 1,
            "_view_module": "@jupyter-widgets/controls",
            "_model_module_version": "1.5.0",
            "value": 1,
            "_view_count": null,
            "_view_module_version": "1.5.0",
            "orientation": "horizontal",
            "min": 0,
            "description_tooltip": null,
            "_model_module": "@jupyter-widgets/controls",
            "layout": "IPY_MODEL_f41196752e954da997348b75c6076e3c"
          }
        },
        "2c99473fa2164e09a96029b45fb18462": {
          "model_module": "@jupyter-widgets/controls",
          "model_name": "HTMLModel",
          "state": {
            "_view_name": "HTMLView",
            "style": "IPY_MODEL_00db5ba9e03f46d787dd475b87c30c54",
            "_dom_classes": [],
            "description": "",
            "_model_name": "HTMLModel",
            "placeholder": "​",
            "_view_module": "@jupyter-widgets/controls",
            "_model_module_version": "1.5.0",
            "value": " 169009152/? [00:20&lt;00:00, 30743182.33it/s]",
            "_view_count": null,
            "_view_module_version": "1.5.0",
            "description_tooltip": null,
            "_model_module": "@jupyter-widgets/controls",
            "layout": "IPY_MODEL_0d8b03fb4d564e118890330ad1257ab6"
          }
        },
        "2e6dae9d2c2e4355a1fe9a950ce6d689": {
          "model_module": "@jupyter-widgets/controls",
          "model_name": "ProgressStyleModel",
          "state": {
            "_view_name": "StyleView",
            "_model_name": "ProgressStyleModel",
            "description_width": "initial",
            "_view_module": "@jupyter-widgets/base",
            "_model_module_version": "1.5.0",
            "_view_count": null,
            "_view_module_version": "1.2.0",
            "bar_color": null,
            "_model_module": "@jupyter-widgets/controls"
          }
        },
        "f41196752e954da997348b75c6076e3c": {
          "model_module": "@jupyter-widgets/base",
          "model_name": "LayoutModel",
          "state": {
            "_view_name": "LayoutView",
            "grid_template_rows": null,
            "right": null,
            "justify_content": null,
            "_view_module": "@jupyter-widgets/base",
            "overflow": null,
            "_model_module_version": "1.2.0",
            "_view_count": null,
            "flex_flow": null,
            "width": null,
            "min_width": null,
            "border": null,
            "align_items": null,
            "bottom": null,
            "_model_module": "@jupyter-widgets/base",
            "top": null,
            "grid_column": null,
            "overflow_y": null,
            "overflow_x": null,
            "grid_auto_flow": null,
            "grid_area": null,
            "grid_template_columns": null,
            "flex": null,
            "_model_name": "LayoutModel",
            "justify_items": null,
            "grid_row": null,
            "max_height": null,
            "align_content": null,
            "visibility": null,
            "align_self": null,
            "height": null,
            "min_height": null,
            "padding": null,
            "grid_auto_rows": null,
            "grid_gap": null,
            "max_width": null,
            "order": null,
            "_view_module_version": "1.2.0",
            "grid_template_areas": null,
            "object_position": null,
            "object_fit": null,
            "grid_auto_columns": null,
            "margin": null,
            "display": null,
            "left": null
          }
        },
        "00db5ba9e03f46d787dd475b87c30c54": {
          "model_module": "@jupyter-widgets/controls",
          "model_name": "DescriptionStyleModel",
          "state": {
            "_view_name": "StyleView",
            "_model_name": "DescriptionStyleModel",
            "description_width": "",
            "_view_module": "@jupyter-widgets/base",
            "_model_module_version": "1.5.0",
            "_view_count": null,
            "_view_module_version": "1.2.0",
            "_model_module": "@jupyter-widgets/controls"
          }
        },
        "0d8b03fb4d564e118890330ad1257ab6": {
          "model_module": "@jupyter-widgets/base",
          "model_name": "LayoutModel",
          "state": {
            "_view_name": "LayoutView",
            "grid_template_rows": null,
            "right": null,
            "justify_content": null,
            "_view_module": "@jupyter-widgets/base",
            "overflow": null,
            "_model_module_version": "1.2.0",
            "_view_count": null,
            "flex_flow": null,
            "width": null,
            "min_width": null,
            "border": null,
            "align_items": null,
            "bottom": null,
            "_model_module": "@jupyter-widgets/base",
            "top": null,
            "grid_column": null,
            "overflow_y": null,
            "overflow_x": null,
            "grid_auto_flow": null,
            "grid_area": null,
            "grid_template_columns": null,
            "flex": null,
            "_model_name": "LayoutModel",
            "justify_items": null,
            "grid_row": null,
            "max_height": null,
            "align_content": null,
            "visibility": null,
            "align_self": null,
            "height": null,
            "min_height": null,
            "padding": null,
            "grid_auto_rows": null,
            "grid_gap": null,
            "max_width": null,
            "order": null,
            "_view_module_version": "1.2.0",
            "grid_template_areas": null,
            "object_position": null,
            "object_fit": null,
            "grid_auto_columns": null,
            "margin": null,
            "display": null,
            "left": null
          }
        },
        "18adb2985b5d40b7bd4384577de90685": {
          "model_module": "@jupyter-widgets/controls",
          "model_name": "HBoxModel",
          "state": {
            "_view_name": "HBoxView",
            "_dom_classes": [],
            "_model_name": "HBoxModel",
            "_view_module": "@jupyter-widgets/controls",
            "_model_module_version": "1.5.0",
            "_view_count": null,
            "_view_module_version": "1.5.0",
            "box_style": "",
            "layout": "IPY_MODEL_0291e4e4cdbf461b8429b1e0f0a067a8",
            "_model_module": "@jupyter-widgets/controls",
            "children": [
              "IPY_MODEL_c720187a158f42c8a1a081a13e5afe2c",
              "IPY_MODEL_f8d31072ca084184b0fd2d62585e47eb"
            ]
          }
        },
        "0291e4e4cdbf461b8429b1e0f0a067a8": {
          "model_module": "@jupyter-widgets/base",
          "model_name": "LayoutModel",
          "state": {
            "_view_name": "LayoutView",
            "grid_template_rows": null,
            "right": null,
            "justify_content": null,
            "_view_module": "@jupyter-widgets/base",
            "overflow": null,
            "_model_module_version": "1.2.0",
            "_view_count": null,
            "flex_flow": null,
            "width": null,
            "min_width": null,
            "border": null,
            "align_items": null,
            "bottom": null,
            "_model_module": "@jupyter-widgets/base",
            "top": null,
            "grid_column": null,
            "overflow_y": null,
            "overflow_x": null,
            "grid_auto_flow": null,
            "grid_area": null,
            "grid_template_columns": null,
            "flex": null,
            "_model_name": "LayoutModel",
            "justify_items": null,
            "grid_row": null,
            "max_height": null,
            "align_content": null,
            "visibility": null,
            "align_self": null,
            "height": null,
            "min_height": null,
            "padding": null,
            "grid_auto_rows": null,
            "grid_gap": null,
            "max_width": null,
            "order": null,
            "_view_module_version": "1.2.0",
            "grid_template_areas": null,
            "object_position": null,
            "object_fit": null,
            "grid_auto_columns": null,
            "margin": null,
            "display": null,
            "left": null
          }
        },
        "c720187a158f42c8a1a081a13e5afe2c": {
          "model_module": "@jupyter-widgets/controls",
          "model_name": "FloatProgressModel",
          "state": {
            "_view_name": "ProgressView",
            "style": "IPY_MODEL_171fd1f1ec834679be59391cdab18313",
            "_dom_classes": [],
            "description": "",
            "_model_name": "FloatProgressModel",
            "bar_style": "info",
            "max": 1,
            "_view_module": "@jupyter-widgets/controls",
            "_model_module_version": "1.5.0",
            "value": 1,
            "_view_count": null,
            "_view_module_version": "1.5.0",
            "orientation": "horizontal",
            "min": 0,
            "description_tooltip": null,
            "_model_module": "@jupyter-widgets/controls",
            "layout": "IPY_MODEL_5ea9676735c34ebabb63bcea6d8a7173"
          }
        },
        "f8d31072ca084184b0fd2d62585e47eb": {
          "model_module": "@jupyter-widgets/controls",
          "model_name": "HTMLModel",
          "state": {
            "_view_name": "HTMLView",
            "style": "IPY_MODEL_d0f95156e2b74d47a821eba20a5d8da4",
            "_dom_classes": [],
            "description": "",
            "_model_name": "HTMLModel",
            "placeholder": "​",
            "_view_module": "@jupyter-widgets/controls",
            "_model_module_version": "1.5.0",
            "value": " 170500096/? [00:19&lt;00:00, 30512764.79it/s]",
            "_view_count": null,
            "_view_module_version": "1.5.0",
            "description_tooltip": null,
            "_model_module": "@jupyter-widgets/controls",
            "layout": "IPY_MODEL_8ca09ebc3ea5479190b41f8a2605663a"
          }
        },
        "171fd1f1ec834679be59391cdab18313": {
          "model_module": "@jupyter-widgets/controls",
          "model_name": "ProgressStyleModel",
          "state": {
            "_view_name": "StyleView",
            "_model_name": "ProgressStyleModel",
            "description_width": "initial",
            "_view_module": "@jupyter-widgets/base",
            "_model_module_version": "1.5.0",
            "_view_count": null,
            "_view_module_version": "1.2.0",
            "bar_color": null,
            "_model_module": "@jupyter-widgets/controls"
          }
        },
        "5ea9676735c34ebabb63bcea6d8a7173": {
          "model_module": "@jupyter-widgets/base",
          "model_name": "LayoutModel",
          "state": {
            "_view_name": "LayoutView",
            "grid_template_rows": null,
            "right": null,
            "justify_content": null,
            "_view_module": "@jupyter-widgets/base",
            "overflow": null,
            "_model_module_version": "1.2.0",
            "_view_count": null,
            "flex_flow": null,
            "width": null,
            "min_width": null,
            "border": null,
            "align_items": null,
            "bottom": null,
            "_model_module": "@jupyter-widgets/base",
            "top": null,
            "grid_column": null,
            "overflow_y": null,
            "overflow_x": null,
            "grid_auto_flow": null,
            "grid_area": null,
            "grid_template_columns": null,
            "flex": null,
            "_model_name": "LayoutModel",
            "justify_items": null,
            "grid_row": null,
            "max_height": null,
            "align_content": null,
            "visibility": null,
            "align_self": null,
            "height": null,
            "min_height": null,
            "padding": null,
            "grid_auto_rows": null,
            "grid_gap": null,
            "max_width": null,
            "order": null,
            "_view_module_version": "1.2.0",
            "grid_template_areas": null,
            "object_position": null,
            "object_fit": null,
            "grid_auto_columns": null,
            "margin": null,
            "display": null,
            "left": null
          }
        },
        "d0f95156e2b74d47a821eba20a5d8da4": {
          "model_module": "@jupyter-widgets/controls",
          "model_name": "DescriptionStyleModel",
          "state": {
            "_view_name": "StyleView",
            "_model_name": "DescriptionStyleModel",
            "description_width": "",
            "_view_module": "@jupyter-widgets/base",
            "_model_module_version": "1.5.0",
            "_view_count": null,
            "_view_module_version": "1.2.0",
            "_model_module": "@jupyter-widgets/controls"
          }
        },
        "8ca09ebc3ea5479190b41f8a2605663a": {
          "model_module": "@jupyter-widgets/base",
          "model_name": "LayoutModel",
          "state": {
            "_view_name": "LayoutView",
            "grid_template_rows": null,
            "right": null,
            "justify_content": null,
            "_view_module": "@jupyter-widgets/base",
            "overflow": null,
            "_model_module_version": "1.2.0",
            "_view_count": null,
            "flex_flow": null,
            "width": null,
            "min_width": null,
            "border": null,
            "align_items": null,
            "bottom": null,
            "_model_module": "@jupyter-widgets/base",
            "top": null,
            "grid_column": null,
            "overflow_y": null,
            "overflow_x": null,
            "grid_auto_flow": null,
            "grid_area": null,
            "grid_template_columns": null,
            "flex": null,
            "_model_name": "LayoutModel",
            "justify_items": null,
            "grid_row": null,
            "max_height": null,
            "align_content": null,
            "visibility": null,
            "align_self": null,
            "height": null,
            "min_height": null,
            "padding": null,
            "grid_auto_rows": null,
            "grid_gap": null,
            "max_width": null,
            "order": null,
            "_view_module_version": "1.2.0",
            "grid_template_areas": null,
            "object_position": null,
            "object_fit": null,
            "grid_auto_columns": null,
            "margin": null,
            "display": null,
            "left": null
          }
        }
      }
    }
  },
  "cells": [
    {
      "cell_type": "markdown",
      "metadata": {
        "id": "view-in-github",
        "colab_type": "text"
      },
      "source": [
        "<a href=\"https://colab.research.google.com/github/Kristin33/10605-mini/blob/main/10605_mini_project.ipynb\" target=\"_parent\"><img src=\"https://colab.research.google.com/assets/colab-badge.svg\" alt=\"Open In Colab\"/></a>"
      ]
    },
    {
      "cell_type": "code",
      "metadata": {
        "id": "QHNmUbUcgF3w"
      },
      "source": [
        "import os\n",
        "import sys\n",
        "import argparse\n",
        "import re\n",
        "import time\n",
        "from datetime import datetime\n",
        "\n",
        "import numpy as np\n",
        "import torch\n",
        "import torch.nn as nn\n",
        "import torch.optim as optim\n",
        "import torchvision\n",
        "import torchvision.transforms as transforms\n",
        "\n",
        "from torch.utils.data import DataLoader, TensorDataset\n",
        "from torch.utils.tensorboard import SummaryWriter\n",
        "from torch.optim.lr_scheduler import _LRScheduler\n",
        "\n",
        "from keras.models import Sequential\n",
        "from keras.layers import Dense\n",
        "from keras.utils import np_utils\n",
        "from keras.optimizers import RMSprop\n",
        "\n",
        "from sklearn.decomposition import PCA\n",
        "from sklearn.preprocessing import StandardScaler\n",
        "from sklearn.manifold import Isomap, MDS, TSNE\n",
        "import matplotlib.pyplot as plt\n",
        "\n",
        "\n",
        "# from conf import settings\n",
        "# from utils import get_network, get_training_dataloader, get_test_dataloader, WarmUpLR, \\\n",
        "#     most_recent_folder, most_recent_weights, last_epoch, best_acc_weights"
      ],
      "execution_count": 1,
      "outputs": []
    },
    {
      "cell_type": "markdown",
      "metadata": {
        "id": "EJgMhC_Px7rh"
      },
      "source": [
        "# Data\n"
      ]
    },
    {
      "cell_type": "code",
      "metadata": {
        "colab": {
          "base_uri": "https://localhost:8080/",
          "height": 0,
          "referenced_widgets": [
            "8e50a2c94dca47cba888eea06cc601dc",
            "b0c253470d2b479dbd9098cea0d919b8",
            "982997da532a4bb89f966137cbf470e6",
            "2c99473fa2164e09a96029b45fb18462",
            "2e6dae9d2c2e4355a1fe9a950ce6d689",
            "f41196752e954da997348b75c6076e3c",
            "00db5ba9e03f46d787dd475b87c30c54",
            "0d8b03fb4d564e118890330ad1257ab6",
            "18adb2985b5d40b7bd4384577de90685",
            "0291e4e4cdbf461b8429b1e0f0a067a8",
            "c720187a158f42c8a1a081a13e5afe2c",
            "f8d31072ca084184b0fd2d62585e47eb",
            "171fd1f1ec834679be59391cdab18313",
            "5ea9676735c34ebabb63bcea6d8a7173",
            "d0f95156e2b74d47a821eba20a5d8da4",
            "8ca09ebc3ea5479190b41f8a2605663a"
          ]
        },
        "id": "SFoRl3K8TSls",
        "outputId": "297c9b78-d1f3-4c9b-bb4b-5ddf94941b44"
      },
      "source": [
        "cifar100_train = torchvision.datasets.CIFAR100(\"cifar100\", train=True, download=True)\n",
        "cifar100_test = torchvision.datasets.CIFAR100(\"cifar100\", train=False, download=True)\n",
        "cifar10_train = torchvision.datasets.CIFAR10(\"cifar10\", train=True, download=True)\n",
        "cifar10_test = torchvision.datasets.CIFAR10(\"cifar10\", train=False, download=True)"
      ],
      "execution_count": 2,
      "outputs": [
        {
          "output_type": "stream",
          "text": [
            "Downloading https://www.cs.toronto.edu/~kriz/cifar-100-python.tar.gz to cifar100/cifar-100-python.tar.gz\n"
          ],
          "name": "stdout"
        },
        {
          "output_type": "display_data",
          "data": {
            "application/vnd.jupyter.widget-view+json": {
              "model_id": "8e50a2c94dca47cba888eea06cc601dc",
              "version_minor": 0,
              "version_major": 2
            },
            "text/plain": [
              "HBox(children=(FloatProgress(value=1.0, bar_style='info', max=1.0), HTML(value='')))"
            ]
          },
          "metadata": {
            "tags": []
          }
        },
        {
          "output_type": "stream",
          "text": [
            "Extracting cifar100/cifar-100-python.tar.gz to cifar100\n",
            "Files already downloaded and verified\n",
            "Downloading https://www.cs.toronto.edu/~kriz/cifar-10-python.tar.gz to cifar10/cifar-10-python.tar.gz\n"
          ],
          "name": "stdout"
        },
        {
          "output_type": "display_data",
          "data": {
            "application/vnd.jupyter.widget-view+json": {
              "model_id": "18adb2985b5d40b7bd4384577de90685",
              "version_minor": 0,
              "version_major": 2
            },
            "text/plain": [
              "HBox(children=(FloatProgress(value=1.0, bar_style='info', max=1.0), HTML(value='')))"
            ]
          },
          "metadata": {
            "tags": []
          }
        },
        {
          "output_type": "stream",
          "text": [
            "Extracting cifar10/cifar-10-python.tar.gz to cifar10\n",
            "Files already downloaded and verified\n"
          ],
          "name": "stdout"
        }
      ]
    },
    {
      "cell_type": "code",
      "metadata": {
        "colab": {
          "base_uri": "https://localhost:8080/"
        },
        "id": "2hoV2hoWpcyD",
        "outputId": "cfdf6312-aad3-40ec-c851-763943e894af"
      },
      "source": [
        "train_data = cifar100_train.data # a numpy array\n",
        "train_labels = np.expand_dims(np.array(cifar100_train.targets), 1) \n",
        "train_labels = np_utils.to_categorical(train_labels)\n",
        "test_data = cifar100_test.data\n",
        "test_labels = np.expand_dims(np.array(cifar100_test.targets), 1) \n",
        "test_labels = np_utils.to_categorical(test_labels)\n",
        "print(\"Training data shape: \", train_data.shape)\n",
        "print(\"Testing data shape: \", test_data.shape)"
      ],
      "execution_count": 3,
      "outputs": [
        {
          "output_type": "stream",
          "text": [
            "Training data shape:  (50000, 32, 32, 3)\n",
            "Testing data shape:  (10000, 32, 32, 3)\n"
          ],
          "name": "stdout"
        }
      ]
    },
    {
      "cell_type": "code",
      "metadata": {
        "id": "cQw2b4v6uBqj"
      },
      "source": [
        "'''\n",
        "Transform the data such that each feature has zero mean and 1 std.\n",
        "Args:\n",
        "  data (ndarray): must have shape (N, k), where k is the number of features.\n",
        "'''\n",
        "def transform(data):\n",
        "  scaler = StandardScaler()\n",
        "  transformed_data = scaler.fit_transform(data)\n",
        "  return transformed_data\n",
        "\n",
        "def rescale(data):\n",
        "  return data/255;"
      ],
      "execution_count": 4,
      "outputs": []
    },
    {
      "cell_type": "code",
      "metadata": {
        "id": "2qRGqqTb0Yt8"
      },
      "source": [
        "# flatten the data\n",
        "train_data_flattened = train_data.reshape((50000, 3072))\n",
        "test_data_flattened = test_data.reshape((10000, 3072))\n",
        "\n",
        "# tranformation\n",
        "transformed_train_data = train_data_flattened/255.0\n",
        "transformed_test_data = test_data_flattened/255.0"
      ],
      "execution_count": 5,
      "outputs": []
    },
    {
      "cell_type": "markdown",
      "metadata": {
        "id": "VlaP6dONaALq"
      },
      "source": [
        "# Dimensionality Reduction"
      ]
    },
    {
      "cell_type": "code",
      "metadata": {
        "id": "Z42q2l16cpDh"
      },
      "source": [
        "reduced_dimension = 2"
      ],
      "execution_count": 6,
      "outputs": []
    },
    {
      "cell_type": "markdown",
      "metadata": {
        "id": "_a9hXknBM_B2"
      },
      "source": [
        "## PCA"
      ]
    },
    {
      "cell_type": "code",
      "metadata": {
        "colab": {
          "base_uri": "https://localhost:8080/"
        },
        "id": "G3FbV7OAUj2h",
        "outputId": "4d4b20b6-dea1-4ea0-dfce-f98ac5d2ec62"
      },
      "source": [
        "time_start = time.time()\n",
        "pca = PCA(n_components=reduced_dimension) \n",
        "pca.fit(transformed_train_data)\n",
        "reduced_train_data_pca = pca.transform(transformed_train_data)\n",
        "reduced_test_data_pca = pca.transform(transformed_test_data)\n",
        "print ('PCA done! Time elapsed: {} seconds'.format(time.time()-time_start))\n",
        "print(\"Percentage of variance explained: \", sum(pca.explained_variance_ratio_))\n",
        "# Note: When n_components=50, 85% of variance is explained."
      ],
      "execution_count": 7,
      "outputs": [
        {
          "output_type": "stream",
          "text": [
            "PCA done! Time elapsed: 11.036816358566284 seconds\n",
            "Percentage of variance explained:  0.42859692565946594\n"
          ],
          "name": "stdout"
        }
      ]
    },
    {
      "cell_type": "code",
      "metadata": {
        "id": "bv1tWKYYO5ez"
      },
      "source": [
        "pca50 = PCA(n_components=50) \n",
        "pca50.fit(transformed_train_data)\n",
        "reduced_train_data_pca50 = pca50.transform(transformed_train_data)\n",
        "reduced_test_data_pca50 = pca50.transform(transformed_test_data)"
      ],
      "execution_count": 8,
      "outputs": []
    },
    {
      "cell_type": "markdown",
      "metadata": {
        "id": "hoJRBK4SNI2i"
      },
      "source": [
        "## ISOMAP"
      ]
    },
    {
      "cell_type": "code",
      "metadata": {
        "id": "iDekOwyxBSUI"
      },
      "source": [
        "time_start = time.time()\n",
        "isomap = Isomap(n_components=reduced_dimension)\n",
        "isomap.fit(reduced_train_data_pca50)\n",
        "reduced_train_data_isomap = isomap.transform(reduced_train_data_pca50[:200, :])\n",
        "reduced_test_data_isomap = isomap.transform(reduced_test_data_pca50[:200, :])\n",
        "print ('Isomap done! Time elapsed: {} seconds'.format(time.time()-time_start))"
      ],
      "execution_count": null,
      "outputs": []
    },
    {
      "cell_type": "code",
      "metadata": {
        "id": "bAP9Dg3rSyos"
      },
      "source": [
        "plot_distribution(reduced_train_data_isomap, train_labels)"
      ],
      "execution_count": null,
      "outputs": []
    },
    {
      "cell_type": "markdown",
      "metadata": {
        "id": "xr0wUC6fNLGT"
      },
      "source": [
        "## MDS"
      ]
    },
    {
      "cell_type": "code",
      "metadata": {
        "id": "XuUTNh7wQFA7"
      },
      "source": [
        "time_start = time.time()\n",
        "mds = MDS(n_components=reduced_dimension)\n",
        "mds.fit(reduced_train_data_pca50)\n",
        "reduced_all_data_mds = mds.fit_transform(\n",
        "    np.vstack((reduced_train_data_pca50[:200, :], reduced_test_data_pca50[:200, :])))\n",
        "reduced_train_data_mds = reduced_all_data_mds[:200, :]\n",
        "reduced_test_data_mds = reduced_all_data_mds[200:, :]\n",
        "print ('MDS done! Time elapsed: {} seconds'.format(time.time()-time_start))"
      ],
      "execution_count": null,
      "outputs": []
    },
    {
      "cell_type": "markdown",
      "metadata": {
        "id": "N99frP_LNTdS"
      },
      "source": [
        "## T-SNE"
      ]
    },
    {
      "cell_type": "code",
      "metadata": {
        "id": "oxtbbRuwQFI2",
        "colab": {
          "base_uri": "https://localhost:8080/",
          "height": 232
        },
        "outputId": "083415bb-8016-4d2e-efac-fc918e8722cd"
      },
      "source": [
        "time_start = time.time()\n",
        "tsne = TSNE(n_components=2)\n",
        "reduced_all_data_tsne = tsne.fit_transform(\n",
        "    np.vstack((reduced_train_data_pca50[:200, :], reduced_test_data_pca50[:200, :])))\n",
        "reduced_train_data_tsne = reduced_all_data_tsne[:200, :]\n",
        "reduced_test_data_tsne = reduced_all_data_tsne[200:, :]\n",
        "print ('T-SNE done! Time elapsed: {} seconds'.format(time.time()-time_start))"
      ],
      "execution_count": 1,
      "outputs": [
        {
          "output_type": "error",
          "ename": "NameError",
          "evalue": "ignored",
          "traceback": [
            "\u001b[0;31m---------------------------------------------------------------------------\u001b[0m",
            "\u001b[0;31mNameError\u001b[0m                                 Traceback (most recent call last)",
            "\u001b[0;32m<ipython-input-1-1090008661ee>\u001b[0m in \u001b[0;36m<module>\u001b[0;34m()\u001b[0m\n\u001b[0;32m----> 1\u001b[0;31m \u001b[0mtime_start\u001b[0m \u001b[0;34m=\u001b[0m \u001b[0mtime\u001b[0m\u001b[0;34m.\u001b[0m\u001b[0mtime\u001b[0m\u001b[0;34m(\u001b[0m\u001b[0;34m)\u001b[0m\u001b[0;34m\u001b[0m\u001b[0;34m\u001b[0m\u001b[0m\n\u001b[0m\u001b[1;32m      2\u001b[0m \u001b[0mtsne\u001b[0m \u001b[0;34m=\u001b[0m \u001b[0mTSNE\u001b[0m\u001b[0;34m(\u001b[0m\u001b[0mn_components\u001b[0m\u001b[0;34m=\u001b[0m\u001b[0;36m2\u001b[0m\u001b[0;34m)\u001b[0m\u001b[0;34m\u001b[0m\u001b[0;34m\u001b[0m\u001b[0m\n\u001b[1;32m      3\u001b[0m reduced_all_data_tsne = tsne.fit_transform(\n\u001b[1;32m      4\u001b[0m     np.vstack((reduced_train_data_pca50[:200, :], reduced_test_data_pca50[:200, :])))\n\u001b[1;32m      5\u001b[0m \u001b[0mreduced_train_data_tsne\u001b[0m \u001b[0;34m=\u001b[0m \u001b[0mreduced_all_data_tsne\u001b[0m\u001b[0;34m[\u001b[0m\u001b[0;34m:\u001b[0m\u001b[0;36m200\u001b[0m\u001b[0;34m,\u001b[0m \u001b[0;34m:\u001b[0m\u001b[0;34m]\u001b[0m\u001b[0;34m\u001b[0m\u001b[0;34m\u001b[0m\u001b[0m\n",
            "\u001b[0;31mNameError\u001b[0m: name 'time' is not defined"
          ]
        }
      ]
    },
    {
      "cell_type": "code",
      "metadata": {
        "id": "cYTARZpNoW_C"
      },
      "source": [
        "print(tsne.n_iter_)"
      ],
      "execution_count": null,
      "outputs": []
    },
    {
      "cell_type": "markdown",
      "metadata": {
        "id": "0hRkHSZhJ42Z"
      },
      "source": [
        "# Run Model"
      ]
    },
    {
      "cell_type": "code",
      "metadata": {
        "id": "HcUrqZq7EIzl"
      },
      "source": [
        "batch_size = 128\n",
        "num_classes = train_labels.shape[-1]\n",
        "epochs = 140"
      ],
      "execution_count": 8,
      "outputs": []
    },
    {
      "cell_type": "code",
      "metadata": {
        "colab": {
          "base_uri": "https://localhost:8080/"
        },
        "id": "YnKwCX0BEK7m",
        "outputId": "2f2af9f7-38cc-45dc-c618-fc0f37fbf5ad"
      },
      "source": [
        "model = Sequential()\n",
        "model.add(Dense(1024, activation='relu', input_shape=(reduced_dimension,)))\n",
        "model.add(Dense(1024, activation='relu'))\n",
        "model.add(Dense(512, activation='relu'))\n",
        "model.add(Dense(256, activation='relu'))\n",
        "model.add(Dense(num_classes, activation='softmax'))\n",
        "model.summary()"
      ],
      "execution_count": 9,
      "outputs": [
        {
          "output_type": "stream",
          "text": [
            "Model: \"sequential\"\n",
            "_________________________________________________________________\n",
            "Layer (type)                 Output Shape              Param #   \n",
            "=================================================================\n",
            "dense (Dense)                (None, 1024)              3072      \n",
            "_________________________________________________________________\n",
            "dense_1 (Dense)              (None, 1024)              1049600   \n",
            "_________________________________________________________________\n",
            "dense_2 (Dense)              (None, 512)               524800    \n",
            "_________________________________________________________________\n",
            "dense_3 (Dense)              (None, 256)               131328    \n",
            "_________________________________________________________________\n",
            "dense_4 (Dense)              (None, 100)               25700     \n",
            "=================================================================\n",
            "Total params: 1,734,500\n",
            "Trainable params: 1,734,500\n",
            "Non-trainable params: 0\n",
            "_________________________________________________________________\n"
          ],
          "name": "stdout"
        }
      ]
    },
    {
      "cell_type": "code",
      "metadata": {
        "colab": {
          "base_uri": "https://localhost:8080/"
        },
        "id": "6ts4ecQXFIoT",
        "outputId": "e5a2c03f-5202-432e-cd25-c50b68c9adac"
      },
      "source": [
        "model.compile(loss='categorical_crossentropy',\n",
        "              optimizer=RMSprop(),\n",
        "              metrics=['accuracy'])\n",
        "\n",
        "print(reduced_train_data_pca.shape)\n",
        "print(train_labels.shape)\n",
        "print(reduced_test_data_pca.shape)\n",
        "print(test_labels.shape)\n",
        "\n",
        "history = model.fit(reduced_train_data_pca, train_labels, batch_size=batch_size,epochs=epochs,verbose=1,\n",
        "                    validation_data=(reduced_test_data_pca, test_labels))"
      ],
      "execution_count": 10,
      "outputs": [
        {
          "output_type": "stream",
          "text": [
            "(50000, 2)\n",
            "(50000, 100)\n",
            "(10000, 2)\n",
            "(10000, 100)\n",
            "Epoch 1/140\n",
            "391/391 [==============================] - 3s 8ms/step - loss: 4.3986 - accuracy: 0.0321 - val_loss: 4.3678 - val_accuracy: 0.0336\n",
            "Epoch 2/140\n",
            "391/391 [==============================] - 3s 8ms/step - loss: 4.3493 - accuracy: 0.0366 - val_loss: 4.3492 - val_accuracy: 0.0388\n",
            "Epoch 3/140\n",
            "391/391 [==============================] - 3s 8ms/step - loss: 4.3318 - accuracy: 0.0405 - val_loss: 4.3354 - val_accuracy: 0.0422\n",
            "Epoch 4/140\n",
            "391/391 [==============================] - 3s 8ms/step - loss: 4.3213 - accuracy: 0.0417 - val_loss: 4.3314 - val_accuracy: 0.0428\n",
            "Epoch 5/140\n",
            "391/391 [==============================] - 3s 7ms/step - loss: 4.3145 - accuracy: 0.0423 - val_loss: 4.3251 - val_accuracy: 0.0434\n",
            "Epoch 6/140\n",
            "391/391 [==============================] - 3s 7ms/step - loss: 4.3093 - accuracy: 0.0436 - val_loss: 4.3209 - val_accuracy: 0.0439\n",
            "Epoch 7/140\n",
            "391/391 [==============================] - 3s 7ms/step - loss: 4.3044 - accuracy: 0.0446 - val_loss: 4.3258 - val_accuracy: 0.0447\n",
            "Epoch 8/140\n",
            "391/391 [==============================] - 3s 7ms/step - loss: 4.3003 - accuracy: 0.0445 - val_loss: 4.3162 - val_accuracy: 0.0448\n",
            "Epoch 9/140\n",
            "391/391 [==============================] - 3s 7ms/step - loss: 4.2970 - accuracy: 0.0445 - val_loss: 4.3151 - val_accuracy: 0.0450\n",
            "Epoch 10/140\n",
            "391/391 [==============================] - 3s 7ms/step - loss: 4.2947 - accuracy: 0.0452 - val_loss: 4.3170 - val_accuracy: 0.0472\n",
            "Epoch 11/140\n",
            "391/391 [==============================] - 3s 7ms/step - loss: 4.2932 - accuracy: 0.0467 - val_loss: 4.3275 - val_accuracy: 0.0445\n",
            "Epoch 12/140\n",
            "391/391 [==============================] - 3s 7ms/step - loss: 4.2913 - accuracy: 0.0466 - val_loss: 4.3161 - val_accuracy: 0.0472\n",
            "Epoch 13/140\n",
            "391/391 [==============================] - 3s 7ms/step - loss: 4.2877 - accuracy: 0.0476 - val_loss: 4.3334 - val_accuracy: 0.0456\n",
            "Epoch 14/140\n",
            "391/391 [==============================] - 3s 7ms/step - loss: 4.2871 - accuracy: 0.0464 - val_loss: 4.3156 - val_accuracy: 0.0465\n",
            "Epoch 15/140\n",
            "391/391 [==============================] - 3s 7ms/step - loss: 4.2852 - accuracy: 0.0473 - val_loss: 4.3217 - val_accuracy: 0.0445\n",
            "Epoch 16/140\n",
            "391/391 [==============================] - 3s 7ms/step - loss: 4.2836 - accuracy: 0.0469 - val_loss: 4.3177 - val_accuracy: 0.0464\n",
            "Epoch 17/140\n",
            "391/391 [==============================] - 3s 7ms/step - loss: 4.2814 - accuracy: 0.0472 - val_loss: 4.3160 - val_accuracy: 0.0474\n",
            "Epoch 18/140\n",
            "391/391 [==============================] - 3s 7ms/step - loss: 4.2801 - accuracy: 0.0473 - val_loss: 4.3171 - val_accuracy: 0.0444\n",
            "Epoch 19/140\n",
            "391/391 [==============================] - 3s 7ms/step - loss: 4.2784 - accuracy: 0.0469 - val_loss: 4.3258 - val_accuracy: 0.0449\n",
            "Epoch 20/140\n",
            "391/391 [==============================] - 3s 7ms/step - loss: 4.2775 - accuracy: 0.0482 - val_loss: 4.3188 - val_accuracy: 0.0462\n",
            "Epoch 21/140\n",
            "391/391 [==============================] - 3s 7ms/step - loss: 4.2765 - accuracy: 0.0474 - val_loss: 4.3317 - val_accuracy: 0.0453\n",
            "Epoch 22/140\n",
            "391/391 [==============================] - 3s 7ms/step - loss: 4.2748 - accuracy: 0.0483 - val_loss: 4.3234 - val_accuracy: 0.0470\n",
            "Epoch 23/140\n",
            "391/391 [==============================] - 3s 7ms/step - loss: 4.2730 - accuracy: 0.0482 - val_loss: 4.3341 - val_accuracy: 0.0464\n",
            "Epoch 24/140\n",
            "391/391 [==============================] - 3s 7ms/step - loss: 4.2720 - accuracy: 0.0489 - val_loss: 4.3240 - val_accuracy: 0.0435\n",
            "Epoch 25/140\n",
            "391/391 [==============================] - 3s 7ms/step - loss: 4.2713 - accuracy: 0.0478 - val_loss: 4.3212 - val_accuracy: 0.0461\n",
            "Epoch 26/140\n",
            "391/391 [==============================] - 3s 7ms/step - loss: 4.2707 - accuracy: 0.0479 - val_loss: 4.3260 - val_accuracy: 0.0460\n",
            "Epoch 27/140\n",
            "391/391 [==============================] - 3s 7ms/step - loss: 4.2693 - accuracy: 0.0490 - val_loss: 4.3318 - val_accuracy: 0.0444\n",
            "Epoch 28/140\n",
            "391/391 [==============================] - 3s 7ms/step - loss: 4.2681 - accuracy: 0.0485 - val_loss: 4.3239 - val_accuracy: 0.0451\n",
            "Epoch 29/140\n",
            "391/391 [==============================] - 3s 7ms/step - loss: 4.2667 - accuracy: 0.0476 - val_loss: 4.3229 - val_accuracy: 0.0459\n",
            "Epoch 30/140\n",
            "391/391 [==============================] - 3s 7ms/step - loss: 4.2651 - accuracy: 0.0481 - val_loss: 4.3355 - val_accuracy: 0.0436\n",
            "Epoch 31/140\n",
            "391/391 [==============================] - 3s 7ms/step - loss: 4.2649 - accuracy: 0.0478 - val_loss: 4.3365 - val_accuracy: 0.0458\n",
            "Epoch 32/140\n",
            "391/391 [==============================] - 3s 8ms/step - loss: 4.2638 - accuracy: 0.0485 - val_loss: 4.3359 - val_accuracy: 0.0449\n",
            "Epoch 33/140\n",
            "391/391 [==============================] - 3s 8ms/step - loss: 4.2624 - accuracy: 0.0484 - val_loss: 4.3382 - val_accuracy: 0.0440\n",
            "Epoch 34/140\n",
            "391/391 [==============================] - 3s 8ms/step - loss: 4.2615 - accuracy: 0.0484 - val_loss: 4.3269 - val_accuracy: 0.0457\n",
            "Epoch 35/140\n",
            "391/391 [==============================] - 3s 8ms/step - loss: 4.2615 - accuracy: 0.0494 - val_loss: 4.3314 - val_accuracy: 0.0456\n",
            "Epoch 36/140\n",
            "391/391 [==============================] - 3s 8ms/step - loss: 4.2604 - accuracy: 0.0493 - val_loss: 4.3286 - val_accuracy: 0.0457\n",
            "Epoch 37/140\n",
            "391/391 [==============================] - 3s 8ms/step - loss: 4.2594 - accuracy: 0.0495 - val_loss: 4.3344 - val_accuracy: 0.0444\n",
            "Epoch 38/140\n",
            "391/391 [==============================] - 3s 8ms/step - loss: 4.2583 - accuracy: 0.0494 - val_loss: 4.3353 - val_accuracy: 0.0435\n",
            "Epoch 39/140\n",
            "391/391 [==============================] - 3s 8ms/step - loss: 4.2578 - accuracy: 0.0490 - val_loss: 4.3357 - val_accuracy: 0.0446\n",
            "Epoch 40/140\n",
            "391/391 [==============================] - 3s 8ms/step - loss: 4.2566 - accuracy: 0.0496 - val_loss: 4.3251 - val_accuracy: 0.0455\n",
            "Epoch 41/140\n",
            "391/391 [==============================] - 3s 8ms/step - loss: 4.2553 - accuracy: 0.0497 - val_loss: 4.3291 - val_accuracy: 0.0450\n",
            "Epoch 42/140\n",
            "391/391 [==============================] - 3s 7ms/step - loss: 4.2542 - accuracy: 0.0493 - val_loss: 4.3326 - val_accuracy: 0.0463\n",
            "Epoch 43/140\n",
            "391/391 [==============================] - 3s 7ms/step - loss: 4.2541 - accuracy: 0.0498 - val_loss: 4.3288 - val_accuracy: 0.0462\n",
            "Epoch 44/140\n",
            "391/391 [==============================] - 3s 7ms/step - loss: 4.2528 - accuracy: 0.0497 - val_loss: 4.3338 - val_accuracy: 0.0450\n",
            "Epoch 45/140\n",
            "391/391 [==============================] - 3s 7ms/step - loss: 4.2520 - accuracy: 0.0497 - val_loss: 4.3365 - val_accuracy: 0.0461\n",
            "Epoch 46/140\n",
            "391/391 [==============================] - 3s 7ms/step - loss: 4.2513 - accuracy: 0.0488 - val_loss: 4.3413 - val_accuracy: 0.0458\n",
            "Epoch 47/140\n",
            "391/391 [==============================] - 3s 7ms/step - loss: 4.2507 - accuracy: 0.0494 - val_loss: 4.3304 - val_accuracy: 0.0448\n",
            "Epoch 48/140\n",
            "391/391 [==============================] - 3s 7ms/step - loss: 4.2511 - accuracy: 0.0507 - val_loss: 4.3362 - val_accuracy: 0.0441\n",
            "Epoch 49/140\n",
            "391/391 [==============================] - 3s 8ms/step - loss: 4.2489 - accuracy: 0.0493 - val_loss: 4.3403 - val_accuracy: 0.0454\n",
            "Epoch 50/140\n",
            "391/391 [==============================] - 3s 8ms/step - loss: 4.2483 - accuracy: 0.0506 - val_loss: 4.3374 - val_accuracy: 0.0452\n",
            "Epoch 51/140\n",
            "391/391 [==============================] - 3s 8ms/step - loss: 4.2466 - accuracy: 0.0505 - val_loss: 4.3467 - val_accuracy: 0.0446\n",
            "Epoch 52/140\n",
            "391/391 [==============================] - 3s 8ms/step - loss: 4.2463 - accuracy: 0.0504 - val_loss: 4.3316 - val_accuracy: 0.0463\n",
            "Epoch 53/140\n",
            "391/391 [==============================] - 3s 8ms/step - loss: 4.2458 - accuracy: 0.0497 - val_loss: 4.3505 - val_accuracy: 0.0435\n",
            "Epoch 54/140\n",
            "391/391 [==============================] - 3s 8ms/step - loss: 4.2443 - accuracy: 0.0503 - val_loss: 4.3442 - val_accuracy: 0.0461\n",
            "Epoch 55/140\n",
            "391/391 [==============================] - 3s 8ms/step - loss: 4.2443 - accuracy: 0.0501 - val_loss: 4.3417 - val_accuracy: 0.0472\n",
            "Epoch 56/140\n",
            "391/391 [==============================] - 3s 8ms/step - loss: 4.2427 - accuracy: 0.0503 - val_loss: 4.3394 - val_accuracy: 0.0452\n",
            "Epoch 57/140\n",
            "391/391 [==============================] - 3s 8ms/step - loss: 4.2420 - accuracy: 0.0503 - val_loss: 4.3439 - val_accuracy: 0.0442\n",
            "Epoch 58/140\n",
            "391/391 [==============================] - 3s 8ms/step - loss: 4.2408 - accuracy: 0.0507 - val_loss: 4.3484 - val_accuracy: 0.0453\n",
            "Epoch 59/140\n",
            "391/391 [==============================] - 3s 8ms/step - loss: 4.2413 - accuracy: 0.0497 - val_loss: 4.3412 - val_accuracy: 0.0418\n",
            "Epoch 60/140\n",
            "391/391 [==============================] - 3s 7ms/step - loss: 4.2395 - accuracy: 0.0515 - val_loss: 4.3543 - val_accuracy: 0.0430\n",
            "Epoch 61/140\n",
            "391/391 [==============================] - 3s 7ms/step - loss: 4.2392 - accuracy: 0.0511 - val_loss: 4.3496 - val_accuracy: 0.0417\n",
            "Epoch 62/140\n",
            "391/391 [==============================] - 3s 8ms/step - loss: 4.2377 - accuracy: 0.0510 - val_loss: 4.3610 - val_accuracy: 0.0422\n",
            "Epoch 63/140\n",
            "391/391 [==============================] - 3s 8ms/step - loss: 4.2379 - accuracy: 0.0516 - val_loss: 4.3466 - val_accuracy: 0.0455\n",
            "Epoch 64/140\n",
            "391/391 [==============================] - 3s 8ms/step - loss: 4.2373 - accuracy: 0.0516 - val_loss: 4.3576 - val_accuracy: 0.0425\n",
            "Epoch 65/140\n",
            "391/391 [==============================] - 3s 7ms/step - loss: 4.2362 - accuracy: 0.0507 - val_loss: 4.3600 - val_accuracy: 0.0436\n",
            "Epoch 66/140\n",
            "391/391 [==============================] - 3s 7ms/step - loss: 4.2356 - accuracy: 0.0520 - val_loss: 4.3476 - val_accuracy: 0.0437\n",
            "Epoch 67/140\n",
            "391/391 [==============================] - 3s 7ms/step - loss: 4.2354 - accuracy: 0.0505 - val_loss: 4.3658 - val_accuracy: 0.0431\n",
            "Epoch 68/140\n",
            "391/391 [==============================] - 3s 7ms/step - loss: 4.2344 - accuracy: 0.0514 - val_loss: 4.3708 - val_accuracy: 0.0450\n",
            "Epoch 69/140\n",
            "391/391 [==============================] - 3s 8ms/step - loss: 4.2328 - accuracy: 0.0517 - val_loss: 4.3503 - val_accuracy: 0.0447\n",
            "Epoch 70/140\n",
            "391/391 [==============================] - 3s 8ms/step - loss: 4.2333 - accuracy: 0.0503 - val_loss: 4.3600 - val_accuracy: 0.0442\n",
            "Epoch 71/140\n",
            "391/391 [==============================] - 3s 7ms/step - loss: 4.2315 - accuracy: 0.0509 - val_loss: 4.3441 - val_accuracy: 0.0463\n",
            "Epoch 72/140\n",
            "391/391 [==============================] - 3s 7ms/step - loss: 4.2324 - accuracy: 0.0507 - val_loss: 4.3492 - val_accuracy: 0.0435\n",
            "Epoch 73/140\n",
            "391/391 [==============================] - 3s 8ms/step - loss: 4.2303 - accuracy: 0.0517 - val_loss: 4.3729 - val_accuracy: 0.0441\n",
            "Epoch 74/140\n",
            "391/391 [==============================] - 3s 8ms/step - loss: 4.2304 - accuracy: 0.0509 - val_loss: 4.3529 - val_accuracy: 0.0447\n",
            "Epoch 75/140\n",
            "391/391 [==============================] - 3s 8ms/step - loss: 4.2302 - accuracy: 0.0518 - val_loss: 4.3720 - val_accuracy: 0.0419\n",
            "Epoch 76/140\n",
            "391/391 [==============================] - 3s 8ms/step - loss: 4.2297 - accuracy: 0.0512 - val_loss: 4.3479 - val_accuracy: 0.0437\n",
            "Epoch 77/140\n",
            "391/391 [==============================] - 3s 7ms/step - loss: 4.2276 - accuracy: 0.0514 - val_loss: 4.3554 - val_accuracy: 0.0448\n",
            "Epoch 78/140\n",
            "391/391 [==============================] - 3s 8ms/step - loss: 4.2283 - accuracy: 0.0515 - val_loss: 4.3553 - val_accuracy: 0.0413\n",
            "Epoch 79/140\n",
            "391/391 [==============================] - 3s 7ms/step - loss: 4.2264 - accuracy: 0.0513 - val_loss: 4.3704 - val_accuracy: 0.0430\n",
            "Epoch 80/140\n",
            "391/391 [==============================] - 3s 8ms/step - loss: 4.2267 - accuracy: 0.0521 - val_loss: 4.3591 - val_accuracy: 0.0433\n",
            "Epoch 81/140\n",
            "391/391 [==============================] - 3s 8ms/step - loss: 4.2257 - accuracy: 0.0510 - val_loss: 4.3570 - val_accuracy: 0.0418\n",
            "Epoch 82/140\n",
            "391/391 [==============================] - 3s 7ms/step - loss: 4.2251 - accuracy: 0.0515 - val_loss: 4.3608 - val_accuracy: 0.0425\n",
            "Epoch 83/140\n",
            "391/391 [==============================] - 3s 8ms/step - loss: 4.2245 - accuracy: 0.0522 - val_loss: 4.3518 - val_accuracy: 0.0430\n",
            "Epoch 84/140\n",
            "391/391 [==============================] - 3s 8ms/step - loss: 4.2242 - accuracy: 0.0509 - val_loss: 4.3734 - val_accuracy: 0.0423\n",
            "Epoch 85/140\n",
            "391/391 [==============================] - 3s 8ms/step - loss: 4.2229 - accuracy: 0.0516 - val_loss: 4.3739 - val_accuracy: 0.0442\n",
            "Epoch 86/140\n",
            "391/391 [==============================] - 3s 8ms/step - loss: 4.2229 - accuracy: 0.0520 - val_loss: 4.3732 - val_accuracy: 0.0447\n",
            "Epoch 87/140\n",
            "391/391 [==============================] - 3s 7ms/step - loss: 4.2232 - accuracy: 0.0525 - val_loss: 4.3623 - val_accuracy: 0.0447\n",
            "Epoch 88/140\n",
            "391/391 [==============================] - 3s 7ms/step - loss: 4.2219 - accuracy: 0.0520 - val_loss: 4.3665 - val_accuracy: 0.0447\n",
            "Epoch 89/140\n",
            "391/391 [==============================] - 3s 8ms/step - loss: 4.2209 - accuracy: 0.0516 - val_loss: 4.3647 - val_accuracy: 0.0431\n",
            "Epoch 90/140\n",
            "391/391 [==============================] - 3s 8ms/step - loss: 4.2201 - accuracy: 0.0523 - val_loss: 4.3766 - val_accuracy: 0.0441\n",
            "Epoch 91/140\n",
            "391/391 [==============================] - 3s 8ms/step - loss: 4.2200 - accuracy: 0.0516 - val_loss: 4.3767 - val_accuracy: 0.0453\n",
            "Epoch 92/140\n",
            "391/391 [==============================] - 3s 7ms/step - loss: 4.2191 - accuracy: 0.0524 - val_loss: 4.3713 - val_accuracy: 0.0431\n",
            "Epoch 93/140\n",
            "391/391 [==============================] - 3s 7ms/step - loss: 4.2206 - accuracy: 0.0523 - val_loss: 4.3627 - val_accuracy: 0.0450\n",
            "Epoch 94/140\n",
            "391/391 [==============================] - 3s 8ms/step - loss: 4.2171 - accuracy: 0.0528 - val_loss: 4.3764 - val_accuracy: 0.0436\n",
            "Epoch 95/140\n",
            "391/391 [==============================] - 3s 8ms/step - loss: 4.2185 - accuracy: 0.0526 - val_loss: 4.3810 - val_accuracy: 0.0422\n",
            "Epoch 96/140\n",
            "391/391 [==============================] - 3s 7ms/step - loss: 4.2170 - accuracy: 0.0521 - val_loss: 4.3671 - val_accuracy: 0.0406\n",
            "Epoch 97/140\n",
            "391/391 [==============================] - 3s 7ms/step - loss: 4.2160 - accuracy: 0.0517 - val_loss: 4.4020 - val_accuracy: 0.0408\n",
            "Epoch 98/140\n",
            "391/391 [==============================] - 3s 7ms/step - loss: 4.2161 - accuracy: 0.0522 - val_loss: 4.3678 - val_accuracy: 0.0437\n",
            "Epoch 99/140\n",
            "391/391 [==============================] - 3s 8ms/step - loss: 4.2144 - accuracy: 0.0523 - val_loss: 4.4080 - val_accuracy: 0.0437\n",
            "Epoch 100/140\n",
            "391/391 [==============================] - 3s 8ms/step - loss: 4.2155 - accuracy: 0.0533 - val_loss: 4.3683 - val_accuracy: 0.0443\n",
            "Epoch 101/140\n",
            "391/391 [==============================] - 3s 8ms/step - loss: 4.2141 - accuracy: 0.0537 - val_loss: 4.3739 - val_accuracy: 0.0424\n",
            "Epoch 102/140\n",
            "391/391 [==============================] - 3s 8ms/step - loss: 4.2132 - accuracy: 0.0522 - val_loss: 4.3681 - val_accuracy: 0.0435\n",
            "Epoch 103/140\n",
            "391/391 [==============================] - 3s 8ms/step - loss: 4.2126 - accuracy: 0.0528 - val_loss: 4.3730 - val_accuracy: 0.0445\n",
            "Epoch 104/140\n",
            "391/391 [==============================] - 3s 8ms/step - loss: 4.2130 - accuracy: 0.0531 - val_loss: 4.3644 - val_accuracy: 0.0437\n",
            "Epoch 105/140\n",
            "391/391 [==============================] - 3s 8ms/step - loss: 4.2117 - accuracy: 0.0519 - val_loss: 4.3679 - val_accuracy: 0.0448\n",
            "Epoch 106/140\n",
            "391/391 [==============================] - 3s 8ms/step - loss: 4.2115 - accuracy: 0.0529 - val_loss: 4.3878 - val_accuracy: 0.0424\n",
            "Epoch 107/140\n",
            "391/391 [==============================] - 3s 8ms/step - loss: 4.2118 - accuracy: 0.0518 - val_loss: 4.3757 - val_accuracy: 0.0440\n",
            "Epoch 108/140\n",
            "391/391 [==============================] - 3s 8ms/step - loss: 4.2107 - accuracy: 0.0524 - val_loss: 4.3873 - val_accuracy: 0.0410\n",
            "Epoch 109/140\n",
            "391/391 [==============================] - 3s 8ms/step - loss: 4.2108 - accuracy: 0.0532 - val_loss: 4.3797 - val_accuracy: 0.0429\n",
            "Epoch 110/140\n",
            "391/391 [==============================] - 3s 8ms/step - loss: 4.2099 - accuracy: 0.0528 - val_loss: 4.3887 - val_accuracy: 0.0421\n",
            "Epoch 111/140\n",
            "391/391 [==============================] - 3s 8ms/step - loss: 4.2079 - accuracy: 0.0539 - val_loss: 4.3882 - val_accuracy: 0.0448\n",
            "Epoch 112/140\n",
            "391/391 [==============================] - 3s 8ms/step - loss: 4.2082 - accuracy: 0.0541 - val_loss: 4.3922 - val_accuracy: 0.0439\n",
            "Epoch 113/140\n",
            "391/391 [==============================] - 3s 8ms/step - loss: 4.2092 - accuracy: 0.0535 - val_loss: 4.3992 - val_accuracy: 0.0440\n",
            "Epoch 114/140\n",
            "391/391 [==============================] - 3s 8ms/step - loss: 4.2073 - accuracy: 0.0525 - val_loss: 4.3870 - val_accuracy: 0.0430\n",
            "Epoch 115/140\n",
            "391/391 [==============================] - 3s 8ms/step - loss: 4.2066 - accuracy: 0.0537 - val_loss: 4.4130 - val_accuracy: 0.0415\n",
            "Epoch 116/140\n",
            "391/391 [==============================] - 3s 8ms/step - loss: 4.2059 - accuracy: 0.0528 - val_loss: 4.3840 - val_accuracy: 0.0428\n",
            "Epoch 117/140\n",
            "391/391 [==============================] - 3s 8ms/step - loss: 4.2064 - accuracy: 0.0545 - val_loss: 4.3956 - val_accuracy: 0.0419\n",
            "Epoch 118/140\n",
            "391/391 [==============================] - 3s 8ms/step - loss: 4.2055 - accuracy: 0.0539 - val_loss: 4.3781 - val_accuracy: 0.0420\n",
            "Epoch 119/140\n",
            "391/391 [==============================] - 3s 8ms/step - loss: 4.2063 - accuracy: 0.0535 - val_loss: 4.4065 - val_accuracy: 0.0425\n",
            "Epoch 120/140\n",
            "391/391 [==============================] - 3s 8ms/step - loss: 4.2058 - accuracy: 0.0535 - val_loss: 4.3906 - val_accuracy: 0.0407\n",
            "Epoch 121/140\n",
            "391/391 [==============================] - 3s 8ms/step - loss: 4.2042 - accuracy: 0.0528 - val_loss: 4.3887 - val_accuracy: 0.0441\n",
            "Epoch 122/140\n",
            "391/391 [==============================] - 3s 8ms/step - loss: 4.2050 - accuracy: 0.0535 - val_loss: 4.3949 - val_accuracy: 0.0410\n",
            "Epoch 123/140\n",
            "391/391 [==============================] - 3s 8ms/step - loss: 4.2049 - accuracy: 0.0535 - val_loss: 4.4051 - val_accuracy: 0.0429\n",
            "Epoch 124/140\n",
            "391/391 [==============================] - 3s 8ms/step - loss: 4.2040 - accuracy: 0.0544 - val_loss: 4.4004 - val_accuracy: 0.0398\n",
            "Epoch 125/140\n",
            "391/391 [==============================] - 3s 8ms/step - loss: 4.2030 - accuracy: 0.0529 - val_loss: 4.4141 - val_accuracy: 0.0424\n",
            "Epoch 126/140\n",
            "391/391 [==============================] - 3s 8ms/step - loss: 4.2017 - accuracy: 0.0543 - val_loss: 4.3950 - val_accuracy: 0.0412\n",
            "Epoch 127/140\n",
            "391/391 [==============================] - 3s 8ms/step - loss: 4.2017 - accuracy: 0.0534 - val_loss: 4.4025 - val_accuracy: 0.0422\n",
            "Epoch 128/140\n",
            "391/391 [==============================] - 3s 8ms/step - loss: 4.2010 - accuracy: 0.0546 - val_loss: 4.4156 - val_accuracy: 0.0425\n",
            "Epoch 129/140\n",
            "391/391 [==============================] - 3s 8ms/step - loss: 4.2014 - accuracy: 0.0524 - val_loss: 4.4095 - val_accuracy: 0.0428\n",
            "Epoch 130/140\n",
            "391/391 [==============================] - 3s 8ms/step - loss: 4.2014 - accuracy: 0.0536 - val_loss: 4.3919 - val_accuracy: 0.0414\n",
            "Epoch 131/140\n",
            "391/391 [==============================] - 3s 8ms/step - loss: 4.1987 - accuracy: 0.0543 - val_loss: 4.4197 - val_accuracy: 0.0415\n",
            "Epoch 132/140\n",
            "391/391 [==============================] - 3s 8ms/step - loss: 4.1988 - accuracy: 0.0544 - val_loss: 4.3956 - val_accuracy: 0.0424\n",
            "Epoch 133/140\n",
            "391/391 [==============================] - 3s 8ms/step - loss: 4.1982 - accuracy: 0.0547 - val_loss: 4.4023 - val_accuracy: 0.0410\n",
            "Epoch 134/140\n",
            "391/391 [==============================] - 3s 8ms/step - loss: 4.1976 - accuracy: 0.0544 - val_loss: 4.3980 - val_accuracy: 0.0442\n",
            "Epoch 135/140\n",
            "391/391 [==============================] - 3s 8ms/step - loss: 4.1988 - accuracy: 0.0551 - val_loss: 4.4235 - val_accuracy: 0.0425\n",
            "Epoch 136/140\n",
            "391/391 [==============================] - 3s 7ms/step - loss: 4.1978 - accuracy: 0.0537 - val_loss: 4.3997 - val_accuracy: 0.0439\n",
            "Epoch 137/140\n",
            "391/391 [==============================] - 3s 8ms/step - loss: 4.1980 - accuracy: 0.0531 - val_loss: 4.4114 - val_accuracy: 0.0401\n",
            "Epoch 138/140\n",
            "391/391 [==============================] - 3s 8ms/step - loss: 4.1968 - accuracy: 0.0546 - val_loss: 4.3987 - val_accuracy: 0.0442\n",
            "Epoch 139/140\n",
            "391/391 [==============================] - 3s 8ms/step - loss: 4.1969 - accuracy: 0.0555 - val_loss: 4.4005 - val_accuracy: 0.0419\n",
            "Epoch 140/140\n",
            "391/391 [==============================] - 3s 8ms/step - loss: 4.1965 - accuracy: 0.0548 - val_loss: 4.4202 - val_accuracy: 0.0438\n"
          ],
          "name": "stdout"
        }
      ]
    },
    {
      "cell_type": "code",
      "metadata": {
        "id": "vGtmP3p8MjyC"
      },
      "source": [
        ""
      ],
      "execution_count": null,
      "outputs": []
    }
  ]
}