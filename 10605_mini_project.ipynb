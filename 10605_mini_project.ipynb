{
  "nbformat": 4,
  "nbformat_minor": 0,
  "metadata": {
    "colab": {
      "name": "10605_mini_project",
      "provenance": [],
      "collapsed_sections": [
        "EJgMhC_Px7rh"
      ],
      "toc_visible": true,
      "include_colab_link": true
    },
    "kernelspec": {
      "name": "python3",
      "display_name": "Python 3"
    },
    "accelerator": "GPU"
  },
  "cells": [
    {
      "cell_type": "markdown",
      "metadata": {
        "id": "view-in-github",
        "colab_type": "text"
      },
      "source": [
        "<a href=\"https://colab.research.google.com/github/Kristin33/10605-mini/blob/main/10605_mini_project.ipynb\" target=\"_parent\"><img src=\"https://colab.research.google.com/assets/colab-badge.svg\" alt=\"Open In Colab\"/></a>"
      ]
    },
    {
      "cell_type": "code",
      "metadata": {
        "id": "QHNmUbUcgF3w"
      },
      "source": [
        "import os\n",
        "import sys\n",
        "import argparse\n",
        "import re\n",
        "import time\n",
        "from datetime import datetime\n",
        "\n",
        "import numpy as np\n",
        "import torch\n",
        "import torch.nn as nn\n",
        "import torch.optim as optim\n",
        "import torchvision\n",
        "import torchvision.transforms as transforms\n",
        "\n",
        "from torch.utils.data import DataLoader, TensorDataset\n",
        "from torch.utils.tensorboard import SummaryWriter\n",
        "from torch.optim.lr_scheduler import _LRScheduler\n",
        "\n",
        "from keras.models import Sequential\n",
        "from keras.layers import Dense\n",
        "from keras.utils import np_utils\n",
        "from keras.optimizers import RMSprop\n",
        "\n",
        "from sklearn.decomposition import PCA\n",
        "from sklearn.preprocessing import StandardScaler\n",
        "from sklearn.manifold import Isomap, MDS, TSNE\n",
        "import matplotlib.pyplot as plt\n",
        "\n",
        "\n",
        "# from conf import settings\n",
        "# from utils import get_network, get_training_dataloader, get_test_dataloader, WarmUpLR, \\\n",
        "#     most_recent_folder, most_recent_weights, last_epoch, best_acc_weights"
      ],
      "execution_count": 1,
      "outputs": []
    },
    {
      "cell_type": "markdown",
      "metadata": {
        "id": "EJgMhC_Px7rh"
      },
      "source": [
        "# Data\n"
      ]
    },
    {
      "cell_type": "code",
      "metadata": {
        "colab": {
          "base_uri": "https://localhost:8080/"
        },
        "id": "SFoRl3K8TSls",
        "outputId": "402bc90e-ed24-4b6c-cce7-a545bb6ebdc9"
      },
      "source": [
        "cifar100_train = torchvision.datasets.CIFAR100(\"cifar100\", train=True, download=True)\n",
        "cifar100_test = torchvision.datasets.CIFAR100(\"cifar100\", train=False, download=True)\n",
        "cifar10_train = torchvision.datasets.CIFAR10(\"cifar10\", train=True, download=True)\n",
        "cifar10_test = torchvision.datasets.CIFAR10(\"cifar10\", train=False, download=True)"
      ],
      "execution_count": 2,
      "outputs": [
        {
          "output_type": "stream",
          "text": [
            "Files already downloaded and verified\n",
            "Files already downloaded and verified\n",
            "Files already downloaded and verified\n",
            "Files already downloaded and verified\n"
          ],
          "name": "stdout"
        }
      ]
    },
    {
      "cell_type": "code",
      "metadata": {
        "colab": {
          "base_uri": "https://localhost:8080/"
        },
        "id": "2hoV2hoWpcyD",
        "outputId": "59b946ec-0a1b-4703-e7a7-a77a486cf2a7"
      },
      "source": [
        "train_data = cifar100_train.data # a numpy array\n",
        "train_labels = np.expand_dims(np.array(cifar100_train.targets), 1) \n",
        "train_labels = np_utils.to_categorical(train_labels)\n",
        "test_data = cifar100_test.data\n",
        "test_labels = np.expand_dims(np.array(cifar100_test.targets), 1) \n",
        "test_labels = np_utils.to_categorical(test_labels)\n",
        "print(\"Training data shape: \", train_data.shape)\n",
        "print(\"Testing data shape: \", test_data.shape)"
      ],
      "execution_count": 3,
      "outputs": [
        {
          "output_type": "stream",
          "text": [
            "Training data shape:  (50000, 32, 32, 3)\n",
            "Testing data shape:  (10000, 32, 32, 3)\n"
          ],
          "name": "stdout"
        }
      ]
    },
    {
      "cell_type": "code",
      "metadata": {
        "id": "cQw2b4v6uBqj"
      },
      "source": [
        "'''\n",
        "Transform the data such that each feature has zero mean and 1 std.\n",
        "Args:\n",
        "  data (ndarray): must have shape (N, k), where k is the number of features.\n",
        "'''\n",
        "def transform(data):\n",
        "  scaler = StandardScaler()\n",
        "  transformed_data = scaler.fit_transform(data)\n",
        "  return transformed_data\n",
        "\n",
        "def rescale(data):\n",
        "  return data/255;"
      ],
      "execution_count": 4,
      "outputs": []
    },
    {
      "cell_type": "code",
      "metadata": {
        "id": "2qRGqqTb0Yt8"
      },
      "source": [
        "# flatten the data\n",
        "train_data_flattened = train_data.reshape((50000, 3072))\n",
        "test_data_flattened = test_data.reshape((10000, 3072))\n",
        "\n",
        "# tranformation\n",
        "transformed_train_data = train_data_flattened/255.0\n",
        "transformed_test_data = test_data_flattened/255.0"
      ],
      "execution_count": 5,
      "outputs": []
    },
    {
      "cell_type": "markdown",
      "metadata": {
        "id": "VlaP6dONaALq"
      },
      "source": [
        "# Dimensionality Reduction"
      ]
    },
    {
      "cell_type": "code",
      "metadata": {
        "id": "Z42q2l16cpDh"
      },
      "source": [
        "reduced_dimension = 2"
      ],
      "execution_count": 6,
      "outputs": []
    },
    {
      "cell_type": "markdown",
      "metadata": {
        "id": "_a9hXknBM_B2"
      },
      "source": [
        "## PCA"
      ]
    },
    {
      "cell_type": "code",
      "metadata": {
        "colab": {
          "base_uri": "https://localhost:8080/"
        },
        "id": "G3FbV7OAUj2h",
        "outputId": "0a35dad6-9829-4744-b629-fb2926848e3d"
      },
      "source": [
        "time_start = time.time()\n",
        "pca = PCA(n_components=reduced_dimension) \n",
        "pca.fit(transformed_train_data)\n",
        "reduced_train_data_pca = pca.transform(transformed_train_data)\n",
        "reduced_test_data_pca = pca.transform(transformed_test_data)\n",
        "print ('PCA done! Time elapsed: {} seconds'.format(time.time()-time_start))\n",
        "print(\"Percentage of variance explained: \", sum(pca.explained_variance_ratio_))\n",
        "# Note: When n_components=50, 85% of variance is explained."
      ],
      "execution_count": 8,
      "outputs": [
        {
          "output_type": "stream",
          "text": [
            "PCA done! Time elapsed: 13.628758192062378 seconds\n",
            "Percentage of variance explained:  0.8582500241693627\n"
          ],
          "name": "stdout"
        }
      ]
    },
    {
      "cell_type": "code",
      "metadata": {
        "id": "bv1tWKYYO5ez"
      },
      "source": [
        "pca50 = PCA(n_components=50) \n",
        "pca50.fit(transformed_train_data)\n",
        "reduced_train_data_pca50 = pca50.transform(transformed_train_data)\n",
        "reduced_test_data_pca50 = pca50.transform(transformed_test_data)"
      ],
      "execution_count": 7,
      "outputs": []
    },
    {
      "cell_type": "markdown",
      "metadata": {
        "id": "hoJRBK4SNI2i"
      },
      "source": [
        "## ISOMAP"
      ]
    },
    {
      "cell_type": "code",
      "metadata": {
        "id": "iDekOwyxBSUI"
      },
      "source": [
        "time_start = time.time()\n",
        "isomap = Isomap(n_components=reduced_dimension)\n",
        "isomap.fit(reduced_train_data_pca50)\n",
        "reduced_train_data_isomap = isomap.transform(reduced_train_data_pca50[:200, :])\n",
        "reduced_test_data_isomap = isomap.transform(reduced_test_data_pca50[:200, :])\n",
        "print ('Isomap done! Time elapsed: {} seconds'.format(time.time()-time_start))"
      ],
      "execution_count": null,
      "outputs": []
    },
    {
      "cell_type": "code",
      "metadata": {
        "id": "bAP9Dg3rSyos"
      },
      "source": [
        "plot_distribution(reduced_train_data_isomap, train_labels)"
      ],
      "execution_count": null,
      "outputs": []
    },
    {
      "cell_type": "markdown",
      "metadata": {
        "id": "xr0wUC6fNLGT"
      },
      "source": [
        "## MDS"
      ]
    },
    {
      "cell_type": "code",
      "metadata": {
        "id": "XuUTNh7wQFA7"
      },
      "source": [
        "time_start = time.time()\n",
        "mds = MDS(n_components=reduced_dimension)\n",
        "mds.fit(reduced_train_data_pca50)\n",
        "reduced_all_data_mds = mds.fit_transform(\n",
        "    np.vstack((reduced_train_data_pca50[:2000, :], reduced_test_data_pca50[:2000, :])))\n",
        "reduced_train_data_mds = reduced_all_data_mds[:2000, :]\n",
        "reduced_test_data_mds = reduced_all_data_mds[2000:, :]\n",
        "print ('MDS done! Time elapsed: {} seconds'.format(time.time()-time_start))"
      ],
      "execution_count": null,
      "outputs": []
    },
    {
      "cell_type": "markdown",
      "metadata": {
        "id": "N99frP_LNTdS"
      },
      "source": [
        "## T-SNE"
      ]
    },
    {
      "cell_type": "code",
      "metadata": {
        "id": "oxtbbRuwQFI2",
        "colab": {
          "base_uri": "https://localhost:8080/"
        },
        "outputId": "41de99a9-a491-4c13-8ae5-e045e6de7709"
      },
      "source": [
        "time_start = time.time()\n",
        "tsne = TSNE(n_components=reduced_dimension)\n",
        "reduced_all_data_tsne = tsne.fit_transform(\n",
        "    np.vstack((reduced_train_data_pca50[:20000, :], reduced_test_data_pca50[:20000, :])))\n",
        "reduced_train_data_tsne = reduced_all_data_tsne[:20000, :]\n",
        "reduced_test_data_tsne = reduced_all_data_tsne[20000:, :]\n",
        "print ('T-SNE done! Time elapsed: {} seconds'.format(time.time()-time_start))"
      ],
      "execution_count": 15,
      "outputs": [
        {
          "output_type": "stream",
          "text": [
            "T-SNE done! Time elapsed: 445.27488946914673 seconds\n"
          ],
          "name": "stdout"
        }
      ]
    },
    {
      "cell_type": "code",
      "metadata": {
        "id": "cYTARZpNoW_C"
      },
      "source": [
        "print(tsne.n_iter_)"
      ],
      "execution_count": null,
      "outputs": []
    },
    {
      "cell_type": "markdown",
      "metadata": {
        "id": "0hRkHSZhJ42Z"
      },
      "source": [
        "# Run Model"
      ]
    },
    {
      "cell_type": "code",
      "metadata": {
        "id": "HcUrqZq7EIzl"
      },
      "source": [
        "batch_size = 128\n",
        "num_classes = train_labels.shape[-1]\n",
        "epochs = 140"
      ],
      "execution_count": null,
      "outputs": []
    },
    {
      "cell_type": "code",
      "metadata": {
        "colab": {
          "base_uri": "https://localhost:8080/"
        },
        "id": "YnKwCX0BEK7m",
        "outputId": "dee5634a-c687-4f5c-be4a-602a8edb12c5"
      },
      "source": [
        "model = Sequential()\n",
        "model.add(Dense(1024, activation='relu', input_shape=(reduced_dimension,)))\n",
        "model.add(Dense(1024, activation='relu'))\n",
        "model.add(Dense(512, activation='relu'))\n",
        "model.add(Dense(256, activation='relu'))\n",
        "model.add(Dense(num_classes, activation='softmax'))\n",
        "model.summary()"
      ],
      "execution_count": null,
      "outputs": [
        {
          "output_type": "stream",
          "text": [
            "Model: \"sequential_7\"\n",
            "_________________________________________________________________\n",
            "Layer (type)                 Output Shape              Param #   \n",
            "=================================================================\n",
            "dense_35 (Dense)             (None, 1024)              148480    \n",
            "_________________________________________________________________\n",
            "dense_36 (Dense)             (None, 1024)              1049600   \n",
            "_________________________________________________________________\n",
            "dense_37 (Dense)             (None, 512)               524800    \n",
            "_________________________________________________________________\n",
            "dense_38 (Dense)             (None, 256)               131328    \n",
            "_________________________________________________________________\n",
            "dense_39 (Dense)             (None, 100)               25700     \n",
            "=================================================================\n",
            "Total params: 1,879,908\n",
            "Trainable params: 1,879,908\n",
            "Non-trainable params: 0\n",
            "_________________________________________________________________\n"
          ],
          "name": "stdout"
        }
      ]
    },
    {
      "cell_type": "code",
      "metadata": {
        "colab": {
          "base_uri": "https://localhost:8080/"
        },
        "id": "6ts4ecQXFIoT",
        "outputId": "c3225638-1373-4939-8d0c-3048067556e0"
      },
      "source": [
        "model.compile(loss='categorical_crossentropy',\n",
        "              optimizer=RMSprop(),\n",
        "              metrics=['accuracy'])\n",
        "\n",
        "print(reduced_train_data_pca.shape)\n",
        "print(train_labels.shape)\n",
        "print(reduced_test_data_pca.shape)\n",
        "print(test_labels.shape)\n",
        "\n",
        "history = model.fit(reduced_train_data_pca, train_labels, batch_size=batch_size,epochs=epochs,verbose=1,\n",
        "                    validation_data=(reduced_test_data_pca, test_labels))"
      ],
      "execution_count": null,
      "outputs": [
        {
          "output_type": "stream",
          "text": [
            "(50000, 144)\n",
            "(50000, 100)\n",
            "(10000, 144)\n",
            "(10000, 100)\n",
            "Epoch 1/140\n",
            "391/391 [==============================] - 2s 4ms/step - loss: 3.7119 - accuracy: 0.1385 - val_loss: 3.4677 - val_accuracy: 0.1859\n",
            "Epoch 2/140\n",
            "391/391 [==============================] - 1s 4ms/step - loss: 3.1490 - accuracy: 0.2357 - val_loss: 3.2475 - val_accuracy: 0.2224\n",
            "Epoch 3/140\n",
            "391/391 [==============================] - 1s 4ms/step - loss: 2.7907 - accuracy: 0.3017 - val_loss: 3.1255 - val_accuracy: 0.2545\n",
            "Epoch 4/140\n",
            "391/391 [==============================] - 1s 4ms/step - loss: 2.4457 - accuracy: 0.3677 - val_loss: 3.0699 - val_accuracy: 0.2649\n",
            "Epoch 5/140\n",
            "391/391 [==============================] - 1s 4ms/step - loss: 2.0993 - accuracy: 0.4422 - val_loss: 3.1716 - val_accuracy: 0.2784\n",
            "Epoch 6/140\n",
            "391/391 [==============================] - 1s 4ms/step - loss: 1.7344 - accuracy: 0.5218 - val_loss: 3.3468 - val_accuracy: 0.2816\n",
            "Epoch 7/140\n",
            "391/391 [==============================] - 1s 4ms/step - loss: 1.3805 - accuracy: 0.6072 - val_loss: 3.6361 - val_accuracy: 0.2787\n",
            "Epoch 8/140\n",
            "391/391 [==============================] - 1s 4ms/step - loss: 1.0592 - accuracy: 0.6906 - val_loss: 4.0500 - val_accuracy: 0.2748\n",
            "Epoch 9/140\n",
            "391/391 [==============================] - 1s 4ms/step - loss: 0.8011 - accuracy: 0.7611 - val_loss: 4.6307 - val_accuracy: 0.2714\n",
            "Epoch 10/140\n",
            "391/391 [==============================] - 1s 4ms/step - loss: 0.6044 - accuracy: 0.8168 - val_loss: 5.1609 - val_accuracy: 0.2669\n",
            "Epoch 11/140\n",
            "391/391 [==============================] - 1s 4ms/step - loss: 0.4726 - accuracy: 0.8547 - val_loss: 5.6150 - val_accuracy: 0.2653\n",
            "Epoch 12/140\n",
            "391/391 [==============================] - 1s 4ms/step - loss: 0.3940 - accuracy: 0.8775 - val_loss: 6.0222 - val_accuracy: 0.2618\n",
            "Epoch 13/140\n",
            "391/391 [==============================] - 1s 4ms/step - loss: 0.3386 - accuracy: 0.8966 - val_loss: 6.8238 - val_accuracy: 0.2650\n",
            "Epoch 14/140\n",
            "391/391 [==============================] - 1s 4ms/step - loss: 0.3056 - accuracy: 0.9052 - val_loss: 6.9837 - val_accuracy: 0.2672\n",
            "Epoch 15/140\n",
            "391/391 [==============================] - 2s 4ms/step - loss: 0.2876 - accuracy: 0.9119 - val_loss: 7.5264 - val_accuracy: 0.2653\n",
            "Epoch 16/140\n",
            "391/391 [==============================] - 1s 4ms/step - loss: 0.2581 - accuracy: 0.9197 - val_loss: 8.0255 - val_accuracy: 0.2646\n",
            "Epoch 17/140\n",
            "391/391 [==============================] - 1s 4ms/step - loss: 0.2544 - accuracy: 0.9251 - val_loss: 8.3598 - val_accuracy: 0.2592\n",
            "Epoch 18/140\n",
            "391/391 [==============================] - 1s 4ms/step - loss: 0.2451 - accuracy: 0.9252 - val_loss: 8.7710 - val_accuracy: 0.2595\n",
            "Epoch 19/140\n",
            "391/391 [==============================] - 1s 4ms/step - loss: 0.2385 - accuracy: 0.9290 - val_loss: 9.1454 - val_accuracy: 0.2624\n",
            "Epoch 20/140\n",
            "391/391 [==============================] - 2s 4ms/step - loss: 0.2387 - accuracy: 0.9302 - val_loss: 9.3170 - val_accuracy: 0.2694\n",
            "Epoch 21/140\n",
            "391/391 [==============================] - 1s 4ms/step - loss: 0.2232 - accuracy: 0.9350 - val_loss: 9.1954 - val_accuracy: 0.2590\n",
            "Epoch 22/140\n",
            "391/391 [==============================] - 2s 4ms/step - loss: 0.2353 - accuracy: 0.9329 - val_loss: 9.5938 - val_accuracy: 0.2668\n",
            "Epoch 23/140\n",
            "391/391 [==============================] - 1s 4ms/step - loss: 0.2193 - accuracy: 0.9383 - val_loss: 10.5823 - val_accuracy: 0.2700\n",
            "Epoch 24/140\n",
            "391/391 [==============================] - 1s 4ms/step - loss: 0.2169 - accuracy: 0.9377 - val_loss: 10.4594 - val_accuracy: 0.2627\n",
            "Epoch 25/140\n",
            "391/391 [==============================] - 1s 4ms/step - loss: 0.2138 - accuracy: 0.9407 - val_loss: 10.5465 - val_accuracy: 0.2611\n",
            "Epoch 26/140\n",
            "391/391 [==============================] - 1s 4ms/step - loss: 0.2086 - accuracy: 0.9419 - val_loss: 10.8601 - val_accuracy: 0.2605\n",
            "Epoch 27/140\n",
            "391/391 [==============================] - 1s 4ms/step - loss: 0.2120 - accuracy: 0.9422 - val_loss: 11.2422 - val_accuracy: 0.2609\n",
            "Epoch 28/140\n",
            "391/391 [==============================] - 1s 4ms/step - loss: 0.2155 - accuracy: 0.9443 - val_loss: 11.2194 - val_accuracy: 0.2568\n",
            "Epoch 29/140\n",
            "391/391 [==============================] - 2s 4ms/step - loss: 0.2131 - accuracy: 0.9446 - val_loss: 11.9089 - val_accuracy: 0.2569\n",
            "Epoch 30/140\n",
            "391/391 [==============================] - 1s 4ms/step - loss: 0.2124 - accuracy: 0.9440 - val_loss: 11.8701 - val_accuracy: 0.2624\n",
            "Epoch 31/140\n",
            "391/391 [==============================] - 1s 4ms/step - loss: 0.2077 - accuracy: 0.9461 - val_loss: 11.9444 - val_accuracy: 0.2606\n",
            "Epoch 32/140\n",
            "391/391 [==============================] - 1s 4ms/step - loss: 0.2134 - accuracy: 0.9454 - val_loss: 12.7735 - val_accuracy: 0.2497\n",
            "Epoch 33/140\n",
            "391/391 [==============================] - 1s 4ms/step - loss: 0.2163 - accuracy: 0.9471 - val_loss: 13.0867 - val_accuracy: 0.2631\n",
            "Epoch 34/140\n",
            "391/391 [==============================] - 1s 4ms/step - loss: 0.2053 - accuracy: 0.9482 - val_loss: 13.4827 - val_accuracy: 0.2574\n",
            "Epoch 35/140\n",
            "391/391 [==============================] - 2s 4ms/step - loss: 0.2087 - accuracy: 0.9495 - val_loss: 13.8102 - val_accuracy: 0.2606\n",
            "Epoch 36/140\n",
            "391/391 [==============================] - 2s 4ms/step - loss: 0.2090 - accuracy: 0.9497 - val_loss: 14.0594 - val_accuracy: 0.2570\n",
            "Epoch 37/140\n",
            "391/391 [==============================] - 2s 4ms/step - loss: 0.2126 - accuracy: 0.9505 - val_loss: 13.6959 - val_accuracy: 0.2566\n",
            "Epoch 38/140\n",
            "391/391 [==============================] - 2s 4ms/step - loss: 0.2135 - accuracy: 0.9496 - val_loss: 14.5233 - val_accuracy: 0.2560\n",
            "Epoch 39/140\n",
            "391/391 [==============================] - 2s 4ms/step - loss: 0.2222 - accuracy: 0.9487 - val_loss: 14.5414 - val_accuracy: 0.2542\n",
            "Epoch 40/140\n",
            "391/391 [==============================] - 2s 4ms/step - loss: 0.2268 - accuracy: 0.9489 - val_loss: 14.6976 - val_accuracy: 0.2556\n",
            "Epoch 41/140\n",
            "391/391 [==============================] - 2s 4ms/step - loss: 0.2198 - accuracy: 0.9504 - val_loss: 15.5586 - val_accuracy: 0.2561\n",
            "Epoch 42/140\n",
            "391/391 [==============================] - 2s 4ms/step - loss: 0.2280 - accuracy: 0.9514 - val_loss: 16.0523 - val_accuracy: 0.2565\n",
            "Epoch 43/140\n",
            "391/391 [==============================] - 2s 4ms/step - loss: 0.2131 - accuracy: 0.9532 - val_loss: 15.8246 - val_accuracy: 0.2619\n",
            "Epoch 44/140\n",
            "391/391 [==============================] - 2s 4ms/step - loss: 0.2154 - accuracy: 0.9527 - val_loss: 16.5069 - val_accuracy: 0.2584\n",
            "Epoch 45/140\n",
            "391/391 [==============================] - 2s 4ms/step - loss: 0.2276 - accuracy: 0.9523 - val_loss: 17.1708 - val_accuracy: 0.2567\n",
            "Epoch 46/140\n",
            "391/391 [==============================] - 1s 4ms/step - loss: 0.2261 - accuracy: 0.9530 - val_loss: 15.7351 - val_accuracy: 0.2545\n",
            "Epoch 47/140\n",
            "391/391 [==============================] - 1s 4ms/step - loss: 0.2200 - accuracy: 0.9527 - val_loss: 18.1075 - val_accuracy: 0.2610\n",
            "Epoch 48/140\n",
            "391/391 [==============================] - 1s 4ms/step - loss: 0.2251 - accuracy: 0.9551 - val_loss: 17.1666 - val_accuracy: 0.2578\n",
            "Epoch 49/140\n",
            "391/391 [==============================] - 2s 4ms/step - loss: 0.2220 - accuracy: 0.9548 - val_loss: 17.4300 - val_accuracy: 0.2524\n",
            "Epoch 50/140\n",
            "391/391 [==============================] - 1s 4ms/step - loss: 0.2308 - accuracy: 0.9542 - val_loss: 18.6196 - val_accuracy: 0.2601\n",
            "Epoch 51/140\n",
            "391/391 [==============================] - 1s 4ms/step - loss: 0.2348 - accuracy: 0.9539 - val_loss: 19.1913 - val_accuracy: 0.2524\n",
            "Epoch 52/140\n",
            "391/391 [==============================] - 1s 4ms/step - loss: 0.2382 - accuracy: 0.9550 - val_loss: 19.5939 - val_accuracy: 0.2550\n",
            "Epoch 53/140\n",
            "391/391 [==============================] - 2s 4ms/step - loss: 0.2445 - accuracy: 0.9551 - val_loss: 19.3940 - val_accuracy: 0.2547\n",
            "Epoch 54/140\n",
            "391/391 [==============================] - 1s 4ms/step - loss: 0.2280 - accuracy: 0.9557 - val_loss: 19.1275 - val_accuracy: 0.2546\n",
            "Epoch 55/140\n",
            "391/391 [==============================] - 1s 4ms/step - loss: 0.2383 - accuracy: 0.9555 - val_loss: 19.9041 - val_accuracy: 0.2550\n",
            "Epoch 56/140\n",
            "391/391 [==============================] - 1s 4ms/step - loss: 0.2448 - accuracy: 0.9562 - val_loss: 20.6751 - val_accuracy: 0.2578\n",
            "Epoch 57/140\n",
            "391/391 [==============================] - 1s 4ms/step - loss: 0.2455 - accuracy: 0.9555 - val_loss: 19.8831 - val_accuracy: 0.2562\n",
            "Epoch 58/140\n",
            "391/391 [==============================] - 2s 4ms/step - loss: 0.2318 - accuracy: 0.9580 - val_loss: 21.1512 - val_accuracy: 0.2549\n",
            "Epoch 59/140\n",
            "391/391 [==============================] - 1s 4ms/step - loss: 0.2363 - accuracy: 0.9582 - val_loss: 20.9187 - val_accuracy: 0.2515\n",
            "Epoch 60/140\n",
            "391/391 [==============================] - 2s 4ms/step - loss: 0.2335 - accuracy: 0.9577 - val_loss: 22.0099 - val_accuracy: 0.2570\n",
            "Epoch 61/140\n",
            "391/391 [==============================] - 1s 4ms/step - loss: 0.2282 - accuracy: 0.9588 - val_loss: 22.3983 - val_accuracy: 0.2550\n",
            "Epoch 62/140\n",
            "391/391 [==============================] - 1s 4ms/step - loss: 0.2509 - accuracy: 0.9570 - val_loss: 22.9743 - val_accuracy: 0.2503\n",
            "Epoch 63/140\n",
            "391/391 [==============================] - 2s 4ms/step - loss: 0.2548 - accuracy: 0.9579 - val_loss: 24.1435 - val_accuracy: 0.2607\n",
            "Epoch 64/140\n",
            "391/391 [==============================] - 2s 4ms/step - loss: 0.2474 - accuracy: 0.9588 - val_loss: 23.0882 - val_accuracy: 0.2565\n",
            "Epoch 65/140\n",
            "391/391 [==============================] - 1s 4ms/step - loss: 0.2537 - accuracy: 0.9580 - val_loss: 24.8965 - val_accuracy: 0.2610\n",
            "Epoch 66/140\n",
            "391/391 [==============================] - 2s 4ms/step - loss: 0.2636 - accuracy: 0.9588 - val_loss: 23.7914 - val_accuracy: 0.2522\n",
            "Epoch 67/140\n",
            "391/391 [==============================] - 2s 4ms/step - loss: 0.2630 - accuracy: 0.9582 - val_loss: 25.4002 - val_accuracy: 0.2579\n",
            "Epoch 68/140\n",
            "391/391 [==============================] - 2s 4ms/step - loss: 0.2426 - accuracy: 0.9615 - val_loss: 24.2586 - val_accuracy: 0.2514\n",
            "Epoch 69/140\n",
            "391/391 [==============================] - 1s 4ms/step - loss: 0.2507 - accuracy: 0.9602 - val_loss: 26.7189 - val_accuracy: 0.2523\n",
            "Epoch 70/140\n",
            "391/391 [==============================] - 2s 4ms/step - loss: 0.2546 - accuracy: 0.9609 - val_loss: 26.6070 - val_accuracy: 0.2474\n",
            "Epoch 71/140\n",
            "391/391 [==============================] - 1s 4ms/step - loss: 0.2571 - accuracy: 0.9613 - val_loss: 25.2753 - val_accuracy: 0.2477\n",
            "Epoch 72/140\n",
            "391/391 [==============================] - 2s 4ms/step - loss: 0.2688 - accuracy: 0.9614 - val_loss: 27.7813 - val_accuracy: 0.2554\n",
            "Epoch 73/140\n",
            "391/391 [==============================] - 2s 4ms/step - loss: 0.2732 - accuracy: 0.9602 - val_loss: 27.4035 - val_accuracy: 0.2539\n",
            "Epoch 74/140\n",
            "391/391 [==============================] - 2s 4ms/step - loss: 0.2930 - accuracy: 0.9593 - val_loss: 27.6263 - val_accuracy: 0.2559\n",
            "Epoch 75/140\n",
            "391/391 [==============================] - 2s 4ms/step - loss: 0.2630 - accuracy: 0.9620 - val_loss: 28.3715 - val_accuracy: 0.2519\n",
            "Epoch 76/140\n",
            "391/391 [==============================] - 1s 4ms/step - loss: 0.2642 - accuracy: 0.9617 - val_loss: 28.8912 - val_accuracy: 0.2573\n",
            "Epoch 77/140\n",
            "391/391 [==============================] - 1s 4ms/step - loss: 0.2777 - accuracy: 0.9617 - val_loss: 29.1835 - val_accuracy: 0.2533\n",
            "Epoch 78/140\n",
            "391/391 [==============================] - 1s 4ms/step - loss: 0.2551 - accuracy: 0.9644 - val_loss: 30.2268 - val_accuracy: 0.2567\n",
            "Epoch 79/140\n",
            "391/391 [==============================] - 1s 4ms/step - loss: 0.2726 - accuracy: 0.9623 - val_loss: 30.6603 - val_accuracy: 0.2594\n",
            "Epoch 80/140\n",
            "391/391 [==============================] - 2s 4ms/step - loss: 0.2746 - accuracy: 0.9625 - val_loss: 31.5227 - val_accuracy: 0.2554\n",
            "Epoch 81/140\n",
            "391/391 [==============================] - 2s 4ms/step - loss: 0.2793 - accuracy: 0.9625 - val_loss: 30.4956 - val_accuracy: 0.2554\n",
            "Epoch 82/140\n",
            "391/391 [==============================] - 2s 4ms/step - loss: 0.2769 - accuracy: 0.9629 - val_loss: 32.9092 - val_accuracy: 0.2552\n",
            "Epoch 83/140\n",
            "391/391 [==============================] - 1s 4ms/step - loss: 0.2821 - accuracy: 0.9630 - val_loss: 32.4785 - val_accuracy: 0.2542\n",
            "Epoch 84/140\n",
            "391/391 [==============================] - 2s 4ms/step - loss: 0.2909 - accuracy: 0.9639 - val_loss: 31.5323 - val_accuracy: 0.2506\n",
            "Epoch 85/140\n",
            "391/391 [==============================] - 2s 4ms/step - loss: 0.2704 - accuracy: 0.9645 - val_loss: 30.5783 - val_accuracy: 0.2526\n",
            "Epoch 86/140\n",
            "391/391 [==============================] - 1s 4ms/step - loss: 0.2909 - accuracy: 0.9630 - val_loss: 35.4626 - val_accuracy: 0.2539\n",
            "Epoch 87/140\n",
            "391/391 [==============================] - 2s 4ms/step - loss: 0.2704 - accuracy: 0.9666 - val_loss: 36.9320 - val_accuracy: 0.2564\n",
            "Epoch 88/140\n",
            "391/391 [==============================] - 2s 4ms/step - loss: 0.2927 - accuracy: 0.9640 - val_loss: 34.7982 - val_accuracy: 0.2516\n",
            "Epoch 89/140\n",
            "391/391 [==============================] - 1s 4ms/step - loss: 0.2958 - accuracy: 0.9646 - val_loss: 33.6253 - val_accuracy: 0.2539\n",
            "Epoch 90/140\n",
            "391/391 [==============================] - 2s 4ms/step - loss: 0.2941 - accuracy: 0.9645 - val_loss: 32.9515 - val_accuracy: 0.2476\n",
            "Epoch 91/140\n",
            "391/391 [==============================] - 1s 4ms/step - loss: 0.2903 - accuracy: 0.9641 - val_loss: 32.9192 - val_accuracy: 0.2478\n",
            "Epoch 92/140\n",
            "391/391 [==============================] - 2s 4ms/step - loss: 0.2782 - accuracy: 0.9664 - val_loss: 37.6276 - val_accuracy: 0.2576\n",
            "Epoch 93/140\n",
            "391/391 [==============================] - 2s 4ms/step - loss: 0.2868 - accuracy: 0.9657 - val_loss: 38.7186 - val_accuracy: 0.2589\n",
            "Epoch 94/140\n",
            "391/391 [==============================] - 2s 4ms/step - loss: 0.3028 - accuracy: 0.9660 - val_loss: 37.1859 - val_accuracy: 0.2535\n",
            "Epoch 95/140\n",
            "391/391 [==============================] - 2s 4ms/step - loss: 0.3119 - accuracy: 0.9651 - val_loss: 37.6464 - val_accuracy: 0.2571\n",
            "Epoch 96/140\n",
            "391/391 [==============================] - 2s 4ms/step - loss: 0.3022 - accuracy: 0.9663 - val_loss: 40.3432 - val_accuracy: 0.2529\n",
            "Epoch 97/140\n",
            "391/391 [==============================] - 2s 4ms/step - loss: 0.2897 - accuracy: 0.9668 - val_loss: 39.7142 - val_accuracy: 0.2528\n",
            "Epoch 98/140\n",
            "391/391 [==============================] - 2s 4ms/step - loss: 0.2893 - accuracy: 0.9676 - val_loss: 38.1314 - val_accuracy: 0.2599\n",
            "Epoch 99/140\n",
            "391/391 [==============================] - 2s 4ms/step - loss: 0.3091 - accuracy: 0.9659 - val_loss: 41.0049 - val_accuracy: 0.2497\n",
            "Epoch 100/140\n",
            "391/391 [==============================] - 2s 4ms/step - loss: 0.3072 - accuracy: 0.9670 - val_loss: 37.8437 - val_accuracy: 0.2597\n",
            "Epoch 101/140\n",
            "391/391 [==============================] - 2s 4ms/step - loss: 0.3242 - accuracy: 0.9667 - val_loss: 44.9528 - val_accuracy: 0.2553\n",
            "Epoch 102/140\n",
            "391/391 [==============================] - 2s 4ms/step - loss: 0.3408 - accuracy: 0.9657 - val_loss: 40.2455 - val_accuracy: 0.2497\n",
            "Epoch 103/140\n",
            "391/391 [==============================] - 2s 4ms/step - loss: 0.2901 - accuracy: 0.9692 - val_loss: 42.1783 - val_accuracy: 0.2528\n",
            "Epoch 104/140\n",
            "391/391 [==============================] - 2s 4ms/step - loss: 0.3025 - accuracy: 0.9670 - val_loss: 42.5419 - val_accuracy: 0.2519\n",
            "Epoch 105/140\n",
            "391/391 [==============================] - 1s 4ms/step - loss: 0.3100 - accuracy: 0.9680 - val_loss: 42.7804 - val_accuracy: 0.2523\n",
            "Epoch 106/140\n",
            "391/391 [==============================] - 2s 4ms/step - loss: 0.3136 - accuracy: 0.9679 - val_loss: 40.0635 - val_accuracy: 0.2492\n",
            "Epoch 107/140\n",
            "391/391 [==============================] - 1s 4ms/step - loss: 0.3198 - accuracy: 0.9692 - val_loss: 44.1676 - val_accuracy: 0.2508\n",
            "Epoch 108/140\n",
            "391/391 [==============================] - 2s 4ms/step - loss: 0.3050 - accuracy: 0.9690 - val_loss: 45.9901 - val_accuracy: 0.2563\n",
            "Epoch 109/140\n",
            "391/391 [==============================] - 2s 4ms/step - loss: 0.3230 - accuracy: 0.9691 - val_loss: 44.8807 - val_accuracy: 0.2472\n",
            "Epoch 110/140\n",
            "391/391 [==============================] - 2s 4ms/step - loss: 0.3232 - accuracy: 0.9685 - val_loss: 47.1164 - val_accuracy: 0.2499\n",
            "Epoch 111/140\n",
            "391/391 [==============================] - 2s 4ms/step - loss: 0.3202 - accuracy: 0.9689 - val_loss: 44.8366 - val_accuracy: 0.2502\n",
            "Epoch 112/140\n",
            "391/391 [==============================] - 2s 4ms/step - loss: 0.3281 - accuracy: 0.9692 - val_loss: 47.5288 - val_accuracy: 0.2554\n",
            "Epoch 113/140\n",
            "391/391 [==============================] - 2s 4ms/step - loss: 0.3297 - accuracy: 0.9695 - val_loss: 47.9081 - val_accuracy: 0.2521\n",
            "Epoch 114/140\n",
            "391/391 [==============================] - 2s 4ms/step - loss: 0.3312 - accuracy: 0.9695 - val_loss: 49.8419 - val_accuracy: 0.2486\n",
            "Epoch 115/140\n",
            "391/391 [==============================] - 2s 4ms/step - loss: 0.3367 - accuracy: 0.9694 - val_loss: 50.8592 - val_accuracy: 0.2542\n",
            "Epoch 116/140\n",
            "391/391 [==============================] - 1s 4ms/step - loss: 0.3341 - accuracy: 0.9707 - val_loss: 48.0470 - val_accuracy: 0.2490\n",
            "Epoch 117/140\n",
            "391/391 [==============================] - 2s 4ms/step - loss: 0.3261 - accuracy: 0.9710 - val_loss: 48.8279 - val_accuracy: 0.2537\n",
            "Epoch 118/140\n",
            "391/391 [==============================] - 1s 4ms/step - loss: 0.3179 - accuracy: 0.9707 - val_loss: 50.6569 - val_accuracy: 0.2527\n",
            "Epoch 119/140\n",
            "391/391 [==============================] - 2s 4ms/step - loss: 0.3371 - accuracy: 0.9697 - val_loss: 50.6113 - val_accuracy: 0.2563\n",
            "Epoch 120/140\n",
            "391/391 [==============================] - 2s 4ms/step - loss: 0.3234 - accuracy: 0.9708 - val_loss: 49.8169 - val_accuracy: 0.2542\n",
            "Epoch 121/140\n",
            "391/391 [==============================] - 2s 4ms/step - loss: 0.3410 - accuracy: 0.9708 - val_loss: 54.2129 - val_accuracy: 0.2548\n",
            "Epoch 122/140\n",
            "391/391 [==============================] - 2s 4ms/step - loss: 0.3464 - accuracy: 0.9711 - val_loss: 54.9912 - val_accuracy: 0.2505\n",
            "Epoch 123/140\n",
            "391/391 [==============================] - 2s 4ms/step - loss: 0.3345 - accuracy: 0.9710 - val_loss: 54.4097 - val_accuracy: 0.2489\n",
            "Epoch 124/140\n",
            "391/391 [==============================] - 2s 4ms/step - loss: 0.3568 - accuracy: 0.9709 - val_loss: 57.4991 - val_accuracy: 0.2575\n",
            "Epoch 125/140\n",
            "391/391 [==============================] - 2s 4ms/step - loss: 0.3621 - accuracy: 0.9713 - val_loss: 54.8969 - val_accuracy: 0.2507\n",
            "Epoch 126/140\n",
            "391/391 [==============================] - 2s 4ms/step - loss: 0.3367 - accuracy: 0.9723 - val_loss: 56.5817 - val_accuracy: 0.2527\n",
            "Epoch 127/140\n",
            "391/391 [==============================] - 2s 4ms/step - loss: 0.3456 - accuracy: 0.9723 - val_loss: 58.1289 - val_accuracy: 0.2593\n",
            "Epoch 128/140\n",
            "391/391 [==============================] - 2s 4ms/step - loss: 0.3602 - accuracy: 0.9705 - val_loss: 58.4624 - val_accuracy: 0.2535\n",
            "Epoch 129/140\n",
            "391/391 [==============================] - 2s 4ms/step - loss: 0.3354 - accuracy: 0.9738 - val_loss: 57.5322 - val_accuracy: 0.2532\n",
            "Epoch 130/140\n",
            "391/391 [==============================] - 2s 4ms/step - loss: 0.3443 - accuracy: 0.9732 - val_loss: 60.0982 - val_accuracy: 0.2579\n",
            "Epoch 131/140\n",
            "391/391 [==============================] - 2s 4ms/step - loss: 0.3586 - accuracy: 0.9730 - val_loss: 61.3781 - val_accuracy: 0.2524\n",
            "Epoch 132/140\n",
            "391/391 [==============================] - 2s 4ms/step - loss: 0.3485 - accuracy: 0.9733 - val_loss: 61.0577 - val_accuracy: 0.2509\n",
            "Epoch 133/140\n",
            "391/391 [==============================] - 2s 4ms/step - loss: 0.3570 - accuracy: 0.9736 - val_loss: 61.8962 - val_accuracy: 0.2540\n",
            "Epoch 134/140\n",
            "391/391 [==============================] - 2s 4ms/step - loss: 0.3577 - accuracy: 0.9735 - val_loss: 63.3294 - val_accuracy: 0.2537\n",
            "Epoch 135/140\n",
            "391/391 [==============================] - 2s 4ms/step - loss: 0.3609 - accuracy: 0.9726 - val_loss: 63.2711 - val_accuracy: 0.2550\n",
            "Epoch 136/140\n",
            "391/391 [==============================] - 2s 4ms/step - loss: 0.3453 - accuracy: 0.9736 - val_loss: 65.4229 - val_accuracy: 0.2557\n",
            "Epoch 137/140\n",
            "391/391 [==============================] - 2s 4ms/step - loss: 0.3524 - accuracy: 0.9738 - val_loss: 62.0362 - val_accuracy: 0.2561\n",
            "Epoch 138/140\n",
            "391/391 [==============================] - 2s 4ms/step - loss: 0.3767 - accuracy: 0.9730 - val_loss: 64.6785 - val_accuracy: 0.2583\n",
            "Epoch 139/140\n",
            "391/391 [==============================] - 2s 4ms/step - loss: 0.3500 - accuracy: 0.9739 - val_loss: 70.8102 - val_accuracy: 0.2635\n",
            "Epoch 140/140\n",
            "391/391 [==============================] - 2s 4ms/step - loss: 0.3986 - accuracy: 0.9728 - val_loss: 66.4139 - val_accuracy: 0.2581\n"
          ],
          "name": "stdout"
        }
      ]
    },
    {
      "cell_type": "code",
      "metadata": {
        "id": "vGtmP3p8MjyC"
      },
      "source": [
        ""
      ],
      "execution_count": null,
      "outputs": []
    }
  ]
}